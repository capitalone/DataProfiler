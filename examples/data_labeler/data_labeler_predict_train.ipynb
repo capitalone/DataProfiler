{
 "cells": [
  {
   "cell_type": "markdown",
   "id": "square-burst",
   "metadata": {},
   "source": [
    "# Complex Data Type Detection using Data Labeler component of Data Profiler"
   ]
  },
  {
   "cell_type": "raw",
   "id": "legendary-kitty",
   "metadata": {},
   "source": [
    "In this example, we utilize the data labeler component of the Data Profiler to detect the sensitive information for both structured and unstructured data. Data Profiler can be transfer learned with the new datasets to get better results on some specific domains.\n",
    "\n",
    "First, let's import the libraries needed for this example."
   ]
  },
  {
   "cell_type": "code",
   "execution_count": null,
   "id": "matched-scoop",
   "metadata": {},
   "outputs": [],
   "source": [
    "import sys\n",
    "sys.path.insert(0, '../..')\n",
    "import os\n",
    "import dataprofiler as dp\n",
    "import json\n",
    "import pandas as pd"
   ]
  },
  {
   "cell_type": "markdown",
   "id": "negative-sailing",
   "metadata": {},
   "source": [
    "## Structured data"
   ]
  },
  {
   "cell_type": "raw",
   "id": "julian-retention",
   "metadata": {},
   "source": [
    "We use the aws honeypot dataset in the test folder for this example. First, look at the data using data reader class of the data profiler. "
   ]
  },
  {
   "cell_type": "code",
   "execution_count": null,
   "id": "american-albania",
   "metadata": {},
   "outputs": [],
   "source": [
    "data = dp.Data(\"../../dataprofiler/tests/data/csv/aws_honeypot_marx_geo.csv\")\n",
    "df_data = data.data\n",
    "df_data.head()"
   ]
  },
  {
   "cell_type": "raw",
   "id": "pharmaceutical-chinese",
   "metadata": {},
   "source": [
    "The data contains 16 columns, each of which has different data label. Next, we will use data labeler of the data profiler to predict the label for each column in this tabular dataset. To use only the labeling functionality, other options are disabled."
   ]
  },
  {
   "cell_type": "code",
   "execution_count": null,
   "id": "colored-outside",
   "metadata": {},
   "outputs": [],
   "source": [
    "# set option to run only data labeler\n",
    "profile_options = dp.ProfilerOptions()\n",
    "profile_options.set({\"text.is_enabled\": False, \n",
    "                     \"int.is_enabled\": False, \n",
    "                     \"float.is_enabled\": False, \n",
    "                     \"order.is_enabled\": False, \n",
    "                     \"category.is_enabled\": False, \n",
    "                     \"datetime.is_enabled\": False,})\n",
    "\n",
    "profile = dp.Profiler(data, profiler_options=profile_options)"
   ]
  },
  {
   "cell_type": "raw",
   "id": "agreed-benefit",
   "metadata": {},
   "source": [
    "The results are shown below:"
   ]
  },
  {
   "cell_type": "code",
   "execution_count": null,
   "id": "religious-absolute",
   "metadata": {},
   "outputs": [],
   "source": [
    "# get the prediction from data profiler\n",
    "def get_structured_results(results):\n",
    "    columns = []\n",
    "    predictions = []\n",
    "    for col in results['data_stats']:\n",
    "        columns.append(col)\n",
    "        predictions.append(results['data_stats'][col]['data_label'])\n",
    "\n",
    "    df_results = pd.DataFrame({'Column': columns, 'Prediction': predictions})\n",
    "    return df_results\n",
    "\n",
    "results = profile.report()    \n",
    "print(get_structured_results(results))"
   ]
  },
  {
   "cell_type": "raw",
   "id": "tutorial-movement",
   "metadata": {},
   "source": [
    "The results show that the data profiler is able to detect sensitive information such as datetime, ipv4, or address."
   ]
  },
  {
   "cell_type": "markdown",
   "id": "alleged-association",
   "metadata": {},
   "source": [
    "### Train data labeler from scratch"
   ]
  },
  {
   "cell_type": "raw",
   "id": "intermediate-lunch",
   "metadata": {},
   "source": [
    "Data labeler can be trained from scratch with the new list of labels. Below, we show an example of training the data labeler on a dataset with labels given as the columns of that dataset."
   ]
  },
  {
   "cell_type": "code",
   "execution_count": null,
   "id": "found-israel",
   "metadata": {},
   "outputs": [],
   "source": [
    "# the column 'comment' is changed to UNKNOWN, as data labeler requires at least one column with label UNKNOWN\n",
    "df = data.data.rename({'comment': 'UNKNOWN'}, axis=1)\n",
    "\n",
    "# split data to training and test set\n",
    "split_ratio = 0.2\n",
    "df = df.sample(frac=1).reset_index(drop=True)\n",
    "data_train = df[:int((1 - split_ratio) * len(df))]\n",
    "data_test = df[int((1 - split_ratio) * len(df)):]\n",
    "\n",
    "# train new data labeler with column names as labels\n",
    "if not os.path.exists('data_labeler_saved'):\n",
    "    os.makedirs('data_labeler_saved')\n",
    "\n",
    "data_labeler = dp.train_structured_labeler(\n",
    "    data=data_train,\n",
    "    save_dirpath=\"data_labeler_saved\",\n",
    "    epochs=10\n",
    ")"
   ]
  },
  {
   "cell_type": "raw",
   "id": "imposed-budapest",
   "metadata": {},
   "source": [
    "The trained data labeler is then used by Data Profiler to provide the prediction on the new dataset."
   ]
  },
  {
   "cell_type": "code",
   "execution_count": null,
   "id": "failing-madness",
   "metadata": {},
   "outputs": [],
   "source": [
    "# predict with data labeler object\n",
    "profile_options.set({'data_labeler.data_labeler_object': data_labeler})\n",
    "profile = dp.Profiler(data_test, profiler_options=profile_options)\n",
    "\n",
    "# get the prediction from data profiler\n",
    "results = profile.report()\n",
    "print(get_structured_results(results))"
   ]
  },
  {
   "cell_type": "raw",
   "id": "amended-morning",
   "metadata": {},
   "source": [
    "Another way to use the trained data labeler is through the directory path of the saved labeler."
   ]
  },
  {
   "cell_type": "code",
   "execution_count": null,
   "id": "promising-screening",
   "metadata": {},
   "outputs": [],
   "source": [
    "# predict with data labeler loaded from path\n",
    "profile_options.set({'data_labeler.data_labeler_dirpath': 'data_labeler_saved'})\n",
    "profile = dp.Profiler(data_test, profiler_options=profile_options)\n",
    "\n",
    "# get the prediction from data profiler\n",
    "results = profile.report()\n",
    "print(get_structured_results(results))"
   ]
  },
  {
   "cell_type": "markdown",
   "id": "figured-taxation",
   "metadata": {},
   "source": [
    "## Unstructured data"
   ]
  },
  {
   "cell_type": "raw",
   "id": "whole-blackberry",
   "metadata": {},
   "source": [
    "Beside structured data, data profiler detects the sensitive information on the unstructured text. We use a sample of spam email in Enron email dataset for this demo. As above, we start investigating the content of the given email sample."
   ]
  },
  {
   "cell_type": "code",
   "execution_count": null,
   "id": "southern-houston",
   "metadata": {},
   "outputs": [],
   "source": [
    "# load data\n",
    "data = \"Message-ID: <11111111.1111111111111.JavaMail.evans@thyme>\\n\" + \\\n",
    "        \"Date: Fri, 10 Aug 2005 11:31:37 -0700 (PDT)\\n\" + \\\n",
    "        \"From: w..smith@company.com\\n\" + \\\n",
    "        \"To: john.smith@company.com\\n\" + \\\n",
    "        \"Subject: RE: ABC\\n\" + \\\n",
    "        \"Mime-Version: 1.0\\n\" + \\\n",
    "        \"Content-Type: text/plain; charset=us-ascii\\n\" + \\\n",
    "        \"Content-Transfer-Encoding: 7bit\\n\" + \\\n",
    "        \"X-From: Smith, Mary W. </O=ENRON/OU=NA/CN=RECIPIENTS/CN=SSMITH>\\n\" + \\\n",
    "        \"X-To: Smith, John </O=ENRON/OU=NA/CN=RECIPIENTS/CN=JSMITH>\\n\" + \\\n",
    "        \"X-cc: \\n\" + \\\n",
    "        \"X-bcc: \\n\" + \\\n",
    "        \"X-Folder: \\SSMITH (Non-Privileged)\\Sent Items\\n\" + \\\n",
    "        \"X-Origin: Smith-S\\n\" + \\\n",
    "        \"X-FileName: SSMITH (Non-Privileged).pst\\n\\n\" + \\\n",
    "        \"All I ever saw was the e-mail from the office.\\n\\n\" + \\\n",
    "        \"Mary\\n\\n\" + \\\n",
    "        \"-----Original Message-----\\n\" + \\\n",
    "        \"From:   Smith, John  \\n\" + \\\n",
    "        \"Sent:   Friday, August 10, 2005 13:07 PM\\n\" + \\\n",
    "        \"To:     Smith, Mary W.\\n\" + \\\n",
    "        \"Subject:        ABC\\n\\n\" + \\\n",
    "        \"Have you heard any more regarding the ABC sale? I guess that means that \" + \\\n",
    "        \"it's no big deal here, but you think they would have send something.\\n\\n\\n\" + \\\n",
    "        \"John Smith\\n\" + \\\n",
    "        \"123-456-7890\\n\"\n",
    "\n",
    "# convert string data to list to feed into data labeler\n",
    "data = [data]\n",
    "print(data[0])"
   ]
  },
  {
   "cell_type": "raw",
   "id": "geological-clark",
   "metadata": {},
   "source": [
    "By default, data profiler predicts the results at the character level for unstructured text."
   ]
  },
  {
   "cell_type": "code",
   "execution_count": null,
   "id": "theoretical-graph",
   "metadata": {},
   "outputs": [],
   "source": [
    "data_labeler = dp.DataLabeler(labeler_type='unstructured')\n",
    "\n",
    "# make predictions and get labels per character\n",
    "predictions = data_labeler.predict(data)\n",
    "\n",
    "# display results\n",
    "print(predictions['pred'])"
   ]
  },
  {
   "cell_type": "raw",
   "id": "expensive-mechanics",
   "metadata": {},
   "source": [
    "In addition to the character-level result, data profiler provides the results at the word level following the standard NER (Named Entity Recognition), e.g., utilized by spaCy. "
   ]
  },
  {
   "cell_type": "code",
   "execution_count": null,
   "id": "decreased-directive",
   "metadata": {},
   "outputs": [],
   "source": [
    "# convert prediction to word format and ner format\n",
    "# Set the output to the NER format (start position, end position, label)\n",
    "data_labeler.set_params(\n",
    "    { 'postprocessor': { 'output_format':'ner', 'use_word_level_argmax':True } } \n",
    ")\n",
    "\n",
    "# make predictions and get labels per character\n",
    "predictions = data_labeler.predict(data)\n",
    "\n",
    "# display results\n",
    "print('\\n')\n",
    "print('=======================Prediction======================\\n')\n",
    "for pred in predictions['pred'][0]:\n",
    "    print('{}: {}'.format(data[0][pred[0]: pred[1]], pred[2]))\n",
    "    print('--------------------------------------------------------')"
   ]
  },
  {
   "cell_type": "raw",
   "id": "narrow-census",
   "metadata": {},
   "source": [
    "Data profiler identifies sensitive information such as datetime, email address, person names, and phone number. "
   ]
  },
  {
   "cell_type": "code",
   "execution_count": null,
   "id": "quantitative-planner",
   "metadata": {},
   "outputs": [],
   "source": []
  }
 ],
 "metadata": {
  "kernelspec": {
   "display_name": "Python 3",
   "language": "python",
   "name": "python3"
  },
  "language_info": {
   "codemirror_mode": {
    "name": "ipython",
    "version": 3
   },
   "file_extension": ".py",
   "mimetype": "text/x-python",
   "name": "python",
   "nbconvert_exporter": "python",
   "pygments_lexer": "ipython3",
   "version": "3.6.9"
  }
 },
 "nbformat": 4,
 "nbformat_minor": 5
}
