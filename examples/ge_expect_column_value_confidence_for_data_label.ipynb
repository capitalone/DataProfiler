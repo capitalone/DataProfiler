{
 "cells": [
  {
   "cell_type": "markdown",
   "source": [
    "Begin by creating a new directory for your project. We advise using a virtual environment which you can make by executing the following commands:\n",
    "\n",
    "Initialize your virtual environment: python3 -m venv venv\n",
    "Activate the virtual environment: source venv/bin/activate\n",
    "Now install the following packages:\n",
    "\n",
    "DataProfiler: pip install DataProfiler\n",
    "Great Expectations: pip install great_expectations\n",
    "Capital One's DataProfiler Expectations: pip install capitalone_dataprofiler_expectations\n",
    "NOTE: this package is currently not published. You can download the package here, and install it using: pip install -e <path_to_downloaded_package>\n",
    "Initialize Great Expectations:\n",
    "\n",
    "Run the following command to initialize Great Expectations: great_expectations init\n",
    "NOTE: This step is crucial in order generate a DataContext that we will obtain later"
   ],
   "metadata": {
    "collapsed": false,
    "pycharm": {
     "name": "#%% md\n"
    }
   }
  },
  {
   "cell_type": "code",
   "execution_count": 1,
   "outputs": [
    {
     "name": "stderr",
     "output_type": "stream",
     "text": [
      "/Users/CXE445/Documents/DataProfiler/venv/lib/python3.8/site-packages/keras/utils/image_utils.py:36: DeprecationWarning: NEAREST is deprecated and will be removed in Pillow 10 (2023-07-01). Use Resampling.NEAREST or Dither.NONE instead.\n",
      "  'nearest': pil_image.NEAREST,\n",
      "/Users/CXE445/Documents/DataProfiler/venv/lib/python3.8/site-packages/keras/utils/image_utils.py:37: DeprecationWarning: BILINEAR is deprecated and will be removed in Pillow 10 (2023-07-01). Use Resampling.BILINEAR instead.\n",
      "  'bilinear': pil_image.BILINEAR,\n",
      "/Users/CXE445/Documents/DataProfiler/venv/lib/python3.8/site-packages/keras/utils/image_utils.py:38: DeprecationWarning: BICUBIC is deprecated and will be removed in Pillow 10 (2023-07-01). Use Resampling.BICUBIC instead.\n",
      "  'bicubic': pil_image.BICUBIC,\n",
      "/Users/CXE445/Documents/DataProfiler/venv/lib/python3.8/site-packages/keras/utils/image_utils.py:39: DeprecationWarning: HAMMING is deprecated and will be removed in Pillow 10 (2023-07-01). Use Resampling.HAMMING instead.\n",
      "  'hamming': pil_image.HAMMING,\n",
      "/Users/CXE445/Documents/DataProfiler/venv/lib/python3.8/site-packages/keras/utils/image_utils.py:40: DeprecationWarning: BOX is deprecated and will be removed in Pillow 10 (2023-07-01). Use Resampling.BOX instead.\n",
      "  'box': pil_image.BOX,\n",
      "/Users/CXE445/Documents/DataProfiler/venv/lib/python3.8/site-packages/keras/utils/image_utils.py:41: DeprecationWarning: LANCZOS is deprecated and will be removed in Pillow 10 (2023-07-01). Use Resampling.LANCZOS instead.\n",
      "  'lanczos': pil_image.LANCZOS,\n",
      "2022-08-31 12:01:07.831099: I tensorflow/core/platform/cpu_feature_guard.cc:193] This TensorFlow binary is optimized with oneAPI Deep Neural Network Library (oneDNN) to use the following CPU instructions in performance-critical operations:  AVX2 FMA\n",
      "To enable them in other operations, rebuild TensorFlow with the appropriate compiler flags.\n"
     ]
    },
    {
     "name": "stdout",
     "output_type": "stream",
     "text": [
      "INFO:DataProfiler.profilers.profile_builder: Finding the Null values in the columns... \n"
     ]
    },
    {
     "name": "stderr",
     "output_type": "stream",
     "text": [
      "  0%|          | 0/3 [00:00<?, ?it/s]/Users/CXE445/Documents/DataProfiler/dataprofiler/profilers/profile_builder.py:587: FutureWarning: Passing a set as an indexer is deprecated and will raise in a future version. Use a list instead.\n",
      "  df_series = df_series.loc[true_sample_list]\n",
      " 33%|███▎      | 1/3 [00:00<00:01,  1.23it/s]/Users/CXE445/Documents/DataProfiler/dataprofiler/profilers/profile_builder.py:587: FutureWarning: Passing a set as an indexer is deprecated and will raise in a future version. Use a list instead.\n",
      "  df_series = df_series.loc[true_sample_list]\n",
      " 67%|██████▋   | 2/3 [00:01<00:00,  2.05it/s]/Users/CXE445/Documents/DataProfiler/dataprofiler/profilers/profile_builder.py:587: FutureWarning: Passing a set as an indexer is deprecated and will raise in a future version. Use a list instead.\n",
      "  df_series = df_series.loc[true_sample_list]\n",
      "100%|██████████| 3/3 [00:01<00:00,  2.24it/s]"
     ]
    },
    {
     "name": "stdout",
     "output_type": "stream",
     "text": [
      "INFO:DataProfiler.profilers.profile_builder: Calculating the statistics... \n"
     ]
    },
    {
     "name": "stderr",
     "output_type": "stream",
     "text": [
      "\n",
      "100%|██████████| 3/3 [00:00<00:00,  6.44it/s]\n",
      "/Users/CXE445/Documents/DataProfiler/dataprofiler/profilers/numerical_column_stats.py:1597: DeprecationWarning: `np.float` is a deprecated alias for the builtin `float`. To silence this warning, use `float` by itself. Doing this will not modify any behavior and is safe. If you specifically wanted the numpy scalar type, use `np.float64` here.\n",
      "Deprecated in NumPy 1.20; for more details and guidance: https://numpy.org/devdocs/release/1.20.0-notes.html#deprecations\n",
      "  if isinstance(val, np.float):\n"
     ]
    },
    {
     "name": "stdout",
     "output_type": "stream",
     "text": [
      "INFO:DataProfiler.profilers.profile_builder: Finding the Null values in the columns... \n"
     ]
    },
    {
     "name": "stderr",
     "output_type": "stream",
     "text": [
      "  0%|          | 0/3 [00:00<?, ?it/s]/Users/CXE445/Documents/DataProfiler/dataprofiler/profilers/profile_builder.py:587: FutureWarning: Passing a set as an indexer is deprecated and will raise in a future version. Use a list instead.\n",
      "  df_series = df_series.loc[true_sample_list]\n",
      " 33%|███▎      | 1/3 [00:00<00:00,  3.75it/s]/Users/CXE445/Documents/DataProfiler/dataprofiler/profilers/profile_builder.py:587: FutureWarning: Passing a set as an indexer is deprecated and will raise in a future version. Use a list instead.\n",
      "  df_series = df_series.loc[true_sample_list]\n",
      " 67%|██████▋   | 2/3 [00:00<00:00,  3.80it/s]/Users/CXE445/Documents/DataProfiler/dataprofiler/profilers/profile_builder.py:587: FutureWarning: Passing a set as an indexer is deprecated and will raise in a future version. Use a list instead.\n",
      "  df_series = df_series.loc[true_sample_list]\n",
      "100%|██████████| 3/3 [00:00<00:00,  3.71it/s]"
     ]
    },
    {
     "name": "stdout",
     "output_type": "stream",
     "text": [
      "INFO:DataProfiler.profilers.profile_builder: Calculating the statistics... \n"
     ]
    },
    {
     "name": "stderr",
     "output_type": "stream",
     "text": [
      "\n",
      "100%|██████████| 3/3 [00:00<00:00, 10.08it/s]\n",
      "/Users/CXE445/Documents/DataProfiler/dataprofiler/profilers/numerical_column_stats.py:1597: DeprecationWarning: `np.float` is a deprecated alias for the builtin `float`. To silence this warning, use `float` by itself. Doing this will not modify any behavior and is safe. If you specifically wanted the numpy scalar type, use `np.float64` here.\n",
      "Deprecated in NumPy 1.20; for more details and guidance: https://numpy.org/devdocs/release/1.20.0-notes.html#deprecations\n",
      "  if isinstance(val, np.float):\n"
     ]
    },
    {
     "name": "stdout",
     "output_type": "stream",
     "text": [
      "INFO:DataProfiler.profilers.profile_builder: Finding the Null values in the columns... \n"
     ]
    },
    {
     "name": "stderr",
     "output_type": "stream",
     "text": [
      "  0%|          | 0/5 [00:00<?, ?it/s]/Users/CXE445/Documents/DataProfiler/dataprofiler/profilers/profile_builder.py:587: FutureWarning: Passing a set as an indexer is deprecated and will raise in a future version. Use a list instead.\n",
      "  df_series = df_series.loc[true_sample_list]\n",
      " 20%|██        | 1/5 [00:00<00:00,  4.37it/s]/Users/CXE445/Documents/DataProfiler/dataprofiler/profilers/profile_builder.py:587: FutureWarning: Passing a set as an indexer is deprecated and will raise in a future version. Use a list instead.\n",
      "  df_series = df_series.loc[true_sample_list]\n",
      " 40%|████      | 2/5 [00:00<00:00,  4.23it/s]/Users/CXE445/Documents/DataProfiler/dataprofiler/profilers/profile_builder.py:587: FutureWarning: Passing a set as an indexer is deprecated and will raise in a future version. Use a list instead.\n",
      "  df_series = df_series.loc[true_sample_list]\n",
      " 60%|██████    | 3/5 [00:00<00:00,  4.24it/s]/Users/CXE445/Documents/DataProfiler/dataprofiler/profilers/profile_builder.py:587: FutureWarning: Passing a set as an indexer is deprecated and will raise in a future version. Use a list instead.\n",
      "  df_series = df_series.loc[true_sample_list]\n",
      " 80%|████████  | 4/5 [00:00<00:00,  4.23it/s]/Users/CXE445/Documents/DataProfiler/dataprofiler/profilers/profile_builder.py:587: FutureWarning: Passing a set as an indexer is deprecated and will raise in a future version. Use a list instead.\n",
      "  df_series = df_series.loc[true_sample_list]\n",
      "100%|██████████| 5/5 [00:01<00:00,  4.19it/s]"
     ]
    },
    {
     "name": "stdout",
     "output_type": "stream",
     "text": [
      "INFO:DataProfiler.profilers.profile_builder: Calculating the statistics... \n"
     ]
    },
    {
     "name": "stderr",
     "output_type": "stream",
     "text": [
      "\n",
      "100%|██████████| 5/5 [00:00<00:00, 14.54it/s]\n"
     ]
    },
    {
     "name": "stdout",
     "output_type": "stream",
     "text": [
      "INFO:DataProfiler.profilers.profile_builder: Finding the Null values in the columns... \n"
     ]
    },
    {
     "name": "stderr",
     "output_type": "stream",
     "text": [
      "  0%|          | 0/5 [00:00<?, ?it/s]/Users/CXE445/Documents/DataProfiler/dataprofiler/profilers/profile_builder.py:587: FutureWarning: Passing a set as an indexer is deprecated and will raise in a future version. Use a list instead.\n",
      "  df_series = df_series.loc[true_sample_list]\n",
      " 20%|██        | 1/5 [00:00<00:00,  4.19it/s]/Users/CXE445/Documents/DataProfiler/dataprofiler/profilers/profile_builder.py:587: FutureWarning: Passing a set as an indexer is deprecated and will raise in a future version. Use a list instead.\n",
      "  df_series = df_series.loc[true_sample_list]\n",
      " 40%|████      | 2/5 [00:00<00:00,  4.69it/s]/Users/CXE445/Documents/DataProfiler/dataprofiler/profilers/profile_builder.py:587: FutureWarning: Passing a set as an indexer is deprecated and will raise in a future version. Use a list instead.\n",
      "  df_series = df_series.loc[true_sample_list]\n",
      " 60%|██████    | 3/5 [00:00<00:00,  4.86it/s]/Users/CXE445/Documents/DataProfiler/dataprofiler/profilers/profile_builder.py:587: FutureWarning: Passing a set as an indexer is deprecated and will raise in a future version. Use a list instead.\n",
      "  df_series = df_series.loc[true_sample_list]\n",
      " 80%|████████  | 4/5 [00:00<00:00,  5.07it/s]/Users/CXE445/Documents/DataProfiler/dataprofiler/profilers/profile_builder.py:587: FutureWarning: Passing a set as an indexer is deprecated and will raise in a future version. Use a list instead.\n",
      "  df_series = df_series.loc[true_sample_list]\n",
      "100%|██████████| 5/5 [00:01<00:00,  4.94it/s]"
     ]
    },
    {
     "name": "stdout",
     "output_type": "stream",
     "text": [
      "INFO:DataProfiler.profilers.profile_builder: Calculating the statistics... \n"
     ]
    },
    {
     "name": "stderr",
     "output_type": "stream",
     "text": [
      "\n",
      "100%|██████████| 5/5 [00:00<00:00, 14.94it/s]\n"
     ]
    },
    {
     "name": "stdout",
     "output_type": "stream",
     "text": [
      "INFO:DataProfiler.profilers.profile_builder: Finding the Null values in the columns... \n"
     ]
    },
    {
     "name": "stderr",
     "output_type": "stream",
     "text": [
      "  0%|          | 0/5 [00:00<?, ?it/s]/Users/CXE445/Documents/DataProfiler/dataprofiler/profilers/profile_builder.py:587: FutureWarning: Passing a set as an indexer is deprecated and will raise in a future version. Use a list instead.\n",
      "  df_series = df_series.loc[true_sample_list]\n",
      " 20%|██        | 1/5 [00:00<00:00,  4.97it/s]/Users/CXE445/Documents/DataProfiler/dataprofiler/profilers/profile_builder.py:587: FutureWarning: Passing a set as an indexer is deprecated and will raise in a future version. Use a list instead.\n",
      "  df_series = df_series.loc[true_sample_list]\n",
      " 40%|████      | 2/5 [00:00<00:00,  5.01it/s]/Users/CXE445/Documents/DataProfiler/dataprofiler/profilers/profile_builder.py:587: FutureWarning: Passing a set as an indexer is deprecated and will raise in a future version. Use a list instead.\n",
      "  df_series = df_series.loc[true_sample_list]\n",
      " 60%|██████    | 3/5 [00:00<00:00,  4.79it/s]/Users/CXE445/Documents/DataProfiler/dataprofiler/profilers/profile_builder.py:587: FutureWarning: Passing a set as an indexer is deprecated and will raise in a future version. Use a list instead.\n",
      "  df_series = df_series.loc[true_sample_list]\n",
      " 80%|████████  | 4/5 [00:00<00:00,  4.58it/s]/Users/CXE445/Documents/DataProfiler/dataprofiler/profilers/profile_builder.py:587: FutureWarning: Passing a set as an indexer is deprecated and will raise in a future version. Use a list instead.\n",
      "  df_series = df_series.loc[true_sample_list]\n",
      "100%|██████████| 5/5 [00:01<00:00,  4.44it/s]"
     ]
    },
    {
     "name": "stdout",
     "output_type": "stream",
     "text": [
      "INFO:DataProfiler.profilers.profile_builder: Calculating the statistics... \n"
     ]
    },
    {
     "name": "stderr",
     "output_type": "stream",
     "text": [
      "\n",
      "100%|██████████| 5/5 [00:00<00:00, 12.46it/s]\n"
     ]
    },
    {
     "name": "stdout",
     "output_type": "stream",
     "text": [
      "INFO:DataProfiler.profilers.profile_builder: Finding the Null values in the columns... \n"
     ]
    },
    {
     "name": "stderr",
     "output_type": "stream",
     "text": [
      "  0%|          | 0/5 [00:00<?, ?it/s]/Users/CXE445/Documents/DataProfiler/dataprofiler/profilers/profile_builder.py:587: FutureWarning: Passing a set as an indexer is deprecated and will raise in a future version. Use a list instead.\n",
      "  df_series = df_series.loc[true_sample_list]\n",
      " 20%|██        | 1/5 [00:00<00:00,  4.52it/s]/Users/CXE445/Documents/DataProfiler/dataprofiler/profilers/profile_builder.py:587: FutureWarning: Passing a set as an indexer is deprecated and will raise in a future version. Use a list instead.\n",
      "  df_series = df_series.loc[true_sample_list]\n",
      " 40%|████      | 2/5 [00:00<00:00,  4.36it/s]/Users/CXE445/Documents/DataProfiler/dataprofiler/profilers/profile_builder.py:587: FutureWarning: Passing a set as an indexer is deprecated and will raise in a future version. Use a list instead.\n",
      "  df_series = df_series.loc[true_sample_list]\n",
      " 60%|██████    | 3/5 [00:00<00:00,  4.43it/s]/Users/CXE445/Documents/DataProfiler/dataprofiler/profilers/profile_builder.py:587: FutureWarning: Passing a set as an indexer is deprecated and will raise in a future version. Use a list instead.\n",
      "  df_series = df_series.loc[true_sample_list]\n",
      " 80%|████████  | 4/5 [00:00<00:00,  4.40it/s]/Users/CXE445/Documents/DataProfiler/dataprofiler/profilers/profile_builder.py:587: FutureWarning: Passing a set as an indexer is deprecated and will raise in a future version. Use a list instead.\n",
      "  df_series = df_series.loc[true_sample_list]\n",
      "100%|██████████| 5/5 [00:01<00:00,  4.39it/s]"
     ]
    },
    {
     "name": "stdout",
     "output_type": "stream",
     "text": [
      "INFO:DataProfiler.profilers.profile_builder: Calculating the statistics... \n"
     ]
    },
    {
     "name": "stderr",
     "output_type": "stream",
     "text": [
      "\n",
      "100%|██████████| 5/5 [00:00<00:00, 13.29it/s]\n"
     ]
    },
    {
     "name": "stdout",
     "output_type": "stream",
     "text": [
      "INFO:DataProfiler.profilers.profile_builder: Finding the Null values in the columns... \n"
     ]
    },
    {
     "name": "stderr",
     "output_type": "stream",
     "text": [
      "  0%|          | 0/5 [00:00<?, ?it/s]/Users/CXE445/Documents/DataProfiler/dataprofiler/profilers/profile_builder.py:587: FutureWarning: Passing a set as an indexer is deprecated and will raise in a future version. Use a list instead.\n",
      "  df_series = df_series.loc[true_sample_list]\n",
      " 20%|██        | 1/5 [00:00<00:00,  4.32it/s]/Users/CXE445/Documents/DataProfiler/dataprofiler/profilers/profile_builder.py:587: FutureWarning: Passing a set as an indexer is deprecated and will raise in a future version. Use a list instead.\n",
      "  df_series = df_series.loc[true_sample_list]\n",
      " 40%|████      | 2/5 [00:00<00:00,  4.57it/s]/Users/CXE445/Documents/DataProfiler/dataprofiler/profilers/profile_builder.py:587: FutureWarning: Passing a set as an indexer is deprecated and will raise in a future version. Use a list instead.\n",
      "  df_series = df_series.loc[true_sample_list]\n",
      " 60%|██████    | 3/5 [00:00<00:00,  4.61it/s]/Users/CXE445/Documents/DataProfiler/dataprofiler/profilers/profile_builder.py:587: FutureWarning: Passing a set as an indexer is deprecated and will raise in a future version. Use a list instead.\n",
      "  df_series = df_series.loc[true_sample_list]\n",
      " 80%|████████  | 4/5 [00:00<00:00,  4.53it/s]/Users/CXE445/Documents/DataProfiler/dataprofiler/profilers/profile_builder.py:587: FutureWarning: Passing a set as an indexer is deprecated and will raise in a future version. Use a list instead.\n",
      "  df_series = df_series.loc[true_sample_list]\n",
      "100%|██████████| 5/5 [00:01<00:00,  4.48it/s]"
     ]
    },
    {
     "name": "stdout",
     "output_type": "stream",
     "text": [
      "INFO:DataProfiler.profilers.profile_builder: Calculating the statistics... \n"
     ]
    },
    {
     "name": "stderr",
     "output_type": "stream",
     "text": [
      "\n",
      "100%|██████████| 5/5 [00:00<00:00, 14.41it/s]\n"
     ]
    },
    {
     "name": "stdout",
     "output_type": "stream",
     "text": [
      "INFO:DataProfiler.profilers.profile_builder: Finding the Null values in the columns... \n"
     ]
    },
    {
     "name": "stderr",
     "output_type": "stream",
     "text": [
      "  0%|          | 0/5 [00:00<?, ?it/s]/Users/CXE445/Documents/DataProfiler/dataprofiler/profilers/profile_builder.py:587: FutureWarning: Passing a set as an indexer is deprecated and will raise in a future version. Use a list instead.\n",
      "  df_series = df_series.loc[true_sample_list]\n",
      " 20%|██        | 1/5 [00:00<00:00,  4.18it/s]/Users/CXE445/Documents/DataProfiler/dataprofiler/profilers/profile_builder.py:587: FutureWarning: Passing a set as an indexer is deprecated and will raise in a future version. Use a list instead.\n",
      "  df_series = df_series.loc[true_sample_list]\n",
      " 40%|████      | 2/5 [00:00<00:00,  4.28it/s]/Users/CXE445/Documents/DataProfiler/dataprofiler/profilers/profile_builder.py:587: FutureWarning: Passing a set as an indexer is deprecated and will raise in a future version. Use a list instead.\n",
      "  df_series = df_series.loc[true_sample_list]\n",
      " 60%|██████    | 3/5 [00:00<00:00,  4.27it/s]/Users/CXE445/Documents/DataProfiler/dataprofiler/profilers/profile_builder.py:587: FutureWarning: Passing a set as an indexer is deprecated and will raise in a future version. Use a list instead.\n",
      "  df_series = df_series.loc[true_sample_list]\n",
      " 80%|████████  | 4/5 [00:00<00:00,  4.25it/s]/Users/CXE445/Documents/DataProfiler/dataprofiler/profilers/profile_builder.py:587: FutureWarning: Passing a set as an indexer is deprecated and will raise in a future version. Use a list instead.\n",
      "  df_series = df_series.loc[true_sample_list]\n",
      "100%|██████████| 5/5 [00:01<00:00,  4.10it/s]"
     ]
    },
    {
     "name": "stdout",
     "output_type": "stream",
     "text": [
      "INFO:DataProfiler.profilers.profile_builder: Calculating the statistics... \n"
     ]
    },
    {
     "name": "stderr",
     "output_type": "stream",
     "text": [
      "\n",
      "100%|██████████| 5/5 [00:00<00:00, 14.31it/s]\n"
     ]
    },
    {
     "name": "stdout",
     "output_type": "stream",
     "text": [
      "INFO:DataProfiler.profilers.profile_builder: Finding the Null values in the columns... \n"
     ]
    },
    {
     "name": "stderr",
     "output_type": "stream",
     "text": [
      "  0%|          | 0/5 [00:00<?, ?it/s]/Users/CXE445/Documents/DataProfiler/dataprofiler/profilers/profile_builder.py:587: FutureWarning: Passing a set as an indexer is deprecated and will raise in a future version. Use a list instead.\n",
      "  df_series = df_series.loc[true_sample_list]\n",
      " 20%|██        | 1/5 [00:00<00:01,  3.82it/s]/Users/CXE445/Documents/DataProfiler/dataprofiler/profilers/profile_builder.py:587: FutureWarning: Passing a set as an indexer is deprecated and will raise in a future version. Use a list instead.\n",
      "  df_series = df_series.loc[true_sample_list]\n",
      " 40%|████      | 2/5 [00:00<00:00,  4.35it/s]/Users/CXE445/Documents/DataProfiler/dataprofiler/profilers/profile_builder.py:587: FutureWarning: Passing a set as an indexer is deprecated and will raise in a future version. Use a list instead.\n",
      "  df_series = df_series.loc[true_sample_list]\n",
      " 60%|██████    | 3/5 [00:00<00:00,  4.31it/s]/Users/CXE445/Documents/DataProfiler/dataprofiler/profilers/profile_builder.py:587: FutureWarning: Passing a set as an indexer is deprecated and will raise in a future version. Use a list instead.\n",
      "  df_series = df_series.loc[true_sample_list]\n",
      " 80%|████████  | 4/5 [00:00<00:00,  4.21it/s]/Users/CXE445/Documents/DataProfiler/dataprofiler/profilers/profile_builder.py:587: FutureWarning: Passing a set as an indexer is deprecated and will raise in a future version. Use a list instead.\n",
      "  df_series = df_series.loc[true_sample_list]\n",
      "100%|██████████| 5/5 [00:01<00:00,  4.25it/s]"
     ]
    },
    {
     "name": "stdout",
     "output_type": "stream",
     "text": [
      "INFO:DataProfiler.profilers.profile_builder: Calculating the statistics... \n"
     ]
    },
    {
     "name": "stderr",
     "output_type": "stream",
     "text": [
      "\n",
      "100%|██████████| 5/5 [00:00<00:00, 14.49it/s]\n"
     ]
    },
    {
     "name": "stdout",
     "output_type": "stream",
     "text": [
      "INFO:DataProfiler.profilers.profile_builder: Finding the Null values in the columns... \n"
     ]
    },
    {
     "name": "stderr",
     "output_type": "stream",
     "text": [
      "  0%|          | 0/5 [00:00<?, ?it/s]/Users/CXE445/Documents/DataProfiler/dataprofiler/profilers/profile_builder.py:587: FutureWarning: Passing a set as an indexer is deprecated and will raise in a future version. Use a list instead.\n",
      "  df_series = df_series.loc[true_sample_list]\n",
      " 20%|██        | 1/5 [00:00<00:00,  4.42it/s]/Users/CXE445/Documents/DataProfiler/dataprofiler/profilers/profile_builder.py:587: FutureWarning: Passing a set as an indexer is deprecated and will raise in a future version. Use a list instead.\n",
      "  df_series = df_series.loc[true_sample_list]\n",
      " 40%|████      | 2/5 [00:00<00:00,  4.39it/s]/Users/CXE445/Documents/DataProfiler/dataprofiler/profilers/profile_builder.py:587: FutureWarning: Passing a set as an indexer is deprecated and will raise in a future version. Use a list instead.\n",
      "  df_series = df_series.loc[true_sample_list]\n",
      " 60%|██████    | 3/5 [00:00<00:00,  4.44it/s]/Users/CXE445/Documents/DataProfiler/dataprofiler/profilers/profile_builder.py:587: FutureWarning: Passing a set as an indexer is deprecated and will raise in a future version. Use a list instead.\n",
      "  df_series = df_series.loc[true_sample_list]\n",
      " 80%|████████  | 4/5 [00:00<00:00,  4.51it/s]/Users/CXE445/Documents/DataProfiler/dataprofiler/profilers/profile_builder.py:587: FutureWarning: Passing a set as an indexer is deprecated and will raise in a future version. Use a list instead.\n",
      "  df_series = df_series.loc[true_sample_list]\n",
      "100%|██████████| 5/5 [00:01<00:00,  4.49it/s]"
     ]
    },
    {
     "name": "stdout",
     "output_type": "stream",
     "text": [
      "INFO:DataProfiler.profilers.profile_builder: Calculating the statistics... \n"
     ]
    },
    {
     "name": "stderr",
     "output_type": "stream",
     "text": [
      "\n",
      "100%|██████████| 5/5 [00:00<00:00, 13.59it/s]\n"
     ]
    },
    {
     "name": "stdout",
     "output_type": "stream",
     "text": [
      "INFO:DataProfiler.profilers.profile_builder: Finding the Null values in the columns... \n"
     ]
    },
    {
     "name": "stderr",
     "output_type": "stream",
     "text": [
      "  0%|          | 0/5 [00:00<?, ?it/s]/Users/CXE445/Documents/DataProfiler/dataprofiler/profilers/profile_builder.py:587: FutureWarning: Passing a set as an indexer is deprecated and will raise in a future version. Use a list instead.\n",
      "  df_series = df_series.loc[true_sample_list]\n",
      " 20%|██        | 1/5 [00:00<00:00,  4.71it/s]/Users/CXE445/Documents/DataProfiler/dataprofiler/profilers/profile_builder.py:587: FutureWarning: Passing a set as an indexer is deprecated and will raise in a future version. Use a list instead.\n",
      "  df_series = df_series.loc[true_sample_list]\n",
      " 40%|████      | 2/5 [00:00<00:00,  4.64it/s]/Users/CXE445/Documents/DataProfiler/dataprofiler/profilers/profile_builder.py:587: FutureWarning: Passing a set as an indexer is deprecated and will raise in a future version. Use a list instead.\n",
      "  df_series = df_series.loc[true_sample_list]\n",
      " 60%|██████    | 3/5 [00:00<00:00,  4.54it/s]/Users/CXE445/Documents/DataProfiler/dataprofiler/profilers/profile_builder.py:587: FutureWarning: Passing a set as an indexer is deprecated and will raise in a future version. Use a list instead.\n",
      "  df_series = df_series.loc[true_sample_list]\n",
      " 80%|████████  | 4/5 [00:00<00:00,  4.55it/s]/Users/CXE445/Documents/DataProfiler/dataprofiler/profilers/profile_builder.py:587: FutureWarning: Passing a set as an indexer is deprecated and will raise in a future version. Use a list instead.\n",
      "  df_series = df_series.loc[true_sample_list]\n",
      "100%|██████████| 5/5 [00:01<00:00,  4.54it/s]"
     ]
    },
    {
     "name": "stdout",
     "output_type": "stream",
     "text": [
      "INFO:DataProfiler.profilers.profile_builder: Calculating the statistics... \n"
     ]
    },
    {
     "name": "stderr",
     "output_type": "stream",
     "text": [
      "\n",
      "100%|██████████| 5/5 [00:00<00:00, 14.71it/s]\n"
     ]
    },
    {
     "name": "stdout",
     "output_type": "stream",
     "text": [
      "INFO:DataProfiler.profilers.profile_builder: Finding the Null values in the columns... \n"
     ]
    },
    {
     "name": "stderr",
     "output_type": "stream",
     "text": [
      "  0%|          | 0/5 [00:00<?, ?it/s]/Users/CXE445/Documents/DataProfiler/dataprofiler/profilers/profile_builder.py:587: FutureWarning: Passing a set as an indexer is deprecated and will raise in a future version. Use a list instead.\n",
      "  df_series = df_series.loc[true_sample_list]\n",
      " 20%|██        | 1/5 [00:00<00:00,  4.32it/s]/Users/CXE445/Documents/DataProfiler/dataprofiler/profilers/profile_builder.py:587: FutureWarning: Passing a set as an indexer is deprecated and will raise in a future version. Use a list instead.\n",
      "  df_series = df_series.loc[true_sample_list]\n",
      " 40%|████      | 2/5 [00:00<00:00,  4.52it/s]/Users/CXE445/Documents/DataProfiler/dataprofiler/profilers/profile_builder.py:587: FutureWarning: Passing a set as an indexer is deprecated and will raise in a future version. Use a list instead.\n",
      "  df_series = df_series.loc[true_sample_list]\n",
      " 60%|██████    | 3/5 [00:00<00:00,  4.52it/s]/Users/CXE445/Documents/DataProfiler/dataprofiler/profilers/profile_builder.py:587: FutureWarning: Passing a set as an indexer is deprecated and will raise in a future version. Use a list instead.\n",
      "  df_series = df_series.loc[true_sample_list]\n",
      " 80%|████████  | 4/5 [00:00<00:00,  4.45it/s]/Users/CXE445/Documents/DataProfiler/dataprofiler/profilers/profile_builder.py:587: FutureWarning: Passing a set as an indexer is deprecated and will raise in a future version. Use a list instead.\n",
      "  df_series = df_series.loc[true_sample_list]\n",
      "100%|██████████| 5/5 [00:01<00:00,  4.45it/s]"
     ]
    },
    {
     "name": "stdout",
     "output_type": "stream",
     "text": [
      "INFO:DataProfiler.profilers.profile_builder: Calculating the statistics... \n"
     ]
    },
    {
     "name": "stderr",
     "output_type": "stream",
     "text": [
      "\n",
      "100%|██████████| 5/5 [00:00<00:00, 14.80it/s]\n"
     ]
    },
    {
     "name": "stdout",
     "output_type": "stream",
     "text": [
      "INFO:DataProfiler.profilers.profile_builder: Finding the Null values in the columns... \n"
     ]
    },
    {
     "name": "stderr",
     "output_type": "stream",
     "text": [
      "  0%|          | 0/5 [00:00<?, ?it/s]/Users/CXE445/Documents/DataProfiler/dataprofiler/profilers/profile_builder.py:587: FutureWarning: Passing a set as an indexer is deprecated and will raise in a future version. Use a list instead.\n",
      "  df_series = df_series.loc[true_sample_list]\n",
      " 20%|██        | 1/5 [00:00<00:00,  4.69it/s]/Users/CXE445/Documents/DataProfiler/dataprofiler/profilers/profile_builder.py:587: FutureWarning: Passing a set as an indexer is deprecated and will raise in a future version. Use a list instead.\n",
      "  df_series = df_series.loc[true_sample_list]\n",
      " 40%|████      | 2/5 [00:00<00:00,  4.59it/s]/Users/CXE445/Documents/DataProfiler/dataprofiler/profilers/profile_builder.py:587: FutureWarning: Passing a set as an indexer is deprecated and will raise in a future version. Use a list instead.\n",
      "  df_series = df_series.loc[true_sample_list]\n",
      " 60%|██████    | 3/5 [00:00<00:00,  4.34it/s]/Users/CXE445/Documents/DataProfiler/dataprofiler/profilers/profile_builder.py:587: FutureWarning: Passing a set as an indexer is deprecated and will raise in a future version. Use a list instead.\n",
      "  df_series = df_series.loc[true_sample_list]\n",
      " 80%|████████  | 4/5 [00:00<00:00,  4.34it/s]/Users/CXE445/Documents/DataProfiler/dataprofiler/profilers/profile_builder.py:587: FutureWarning: Passing a set as an indexer is deprecated and will raise in a future version. Use a list instead.\n",
      "  df_series = df_series.loc[true_sample_list]\n",
      "100%|██████████| 5/5 [00:01<00:00,  4.38it/s]"
     ]
    },
    {
     "name": "stdout",
     "output_type": "stream",
     "text": [
      "INFO:DataProfiler.profilers.profile_builder: Calculating the statistics... \n"
     ]
    },
    {
     "name": "stderr",
     "output_type": "stream",
     "text": [
      "\n",
      "100%|██████████| 5/5 [00:00<00:00, 14.43it/s]\n"
     ]
    },
    {
     "name": "stdout",
     "output_type": "stream",
     "text": [
      "INFO:DataProfiler.profilers.profile_builder: Finding the Null values in the columns... \n"
     ]
    },
    {
     "name": "stderr",
     "output_type": "stream",
     "text": [
      "  0%|          | 0/5 [00:00<?, ?it/s]/Users/CXE445/Documents/DataProfiler/dataprofiler/profilers/profile_builder.py:587: FutureWarning: Passing a set as an indexer is deprecated and will raise in a future version. Use a list instead.\n",
      "  df_series = df_series.loc[true_sample_list]\n",
      " 20%|██        | 1/5 [00:00<00:00,  4.47it/s]/Users/CXE445/Documents/DataProfiler/dataprofiler/profilers/profile_builder.py:587: FutureWarning: Passing a set as an indexer is deprecated and will raise in a future version. Use a list instead.\n",
      "  df_series = df_series.loc[true_sample_list]\n",
      " 40%|████      | 2/5 [00:00<00:00,  4.48it/s]/Users/CXE445/Documents/DataProfiler/dataprofiler/profilers/profile_builder.py:587: FutureWarning: Passing a set as an indexer is deprecated and will raise in a future version. Use a list instead.\n",
      "  df_series = df_series.loc[true_sample_list]\n",
      " 60%|██████    | 3/5 [00:00<00:00,  4.49it/s]/Users/CXE445/Documents/DataProfiler/dataprofiler/profilers/profile_builder.py:587: FutureWarning: Passing a set as an indexer is deprecated and will raise in a future version. Use a list instead.\n",
      "  df_series = df_series.loc[true_sample_list]\n",
      " 80%|████████  | 4/5 [00:00<00:00,  4.53it/s]/Users/CXE445/Documents/DataProfiler/dataprofiler/profilers/profile_builder.py:587: FutureWarning: Passing a set as an indexer is deprecated and will raise in a future version. Use a list instead.\n",
      "  df_series = df_series.loc[true_sample_list]\n",
      "100%|██████████| 5/5 [00:01<00:00,  4.43it/s]"
     ]
    },
    {
     "name": "stdout",
     "output_type": "stream",
     "text": [
      "INFO:DataProfiler.profilers.profile_builder: Calculating the statistics... \n"
     ]
    },
    {
     "name": "stderr",
     "output_type": "stream",
     "text": [
      "\n",
      "100%|██████████| 5/5 [00:00<00:00, 12.83it/s]\n"
     ]
    }
   ],
   "source": [
    "import dataprofiler as dp\n",
    "import pandas as pd\n",
    "import numpy as np\n",
    "import great_expectations as ge\n",
    "context = ge.get_context()\n",
    "from capitalone_dataprofiler_expectations.expectations.expect_column_values_confidence_for_data_label_to_be_greater_than_or_equal_to_threshold import ExpectColumnValuesConfidenceForDataLabelToBeGreaterThanOrEqualToThreshold\n",
    "from great_expectations.self_check.util import build_pandas_validator_with_data\n",
    "import os"
   ],
   "metadata": {
    "collapsed": false,
    "pycharm": {
     "name": "#%%\n"
    }
   }
  },
  {
   "cell_type": "markdown",
   "source": [
    "Below we are going to import a csv file into a dataframe. This csv holds a column named \"srcip\" which will be used further below."
   ],
   "metadata": {
    "collapsed": false,
    "pycharm": {
     "name": "#%% md\n"
    }
   }
  },
  {
   "cell_type": "code",
   "execution_count": 4,
   "outputs": [
    {
     "data": {
      "text/plain": "           datetime               host           src proto  type  srcport  \\\n0      3/3/13 21:53     groucho-oregon  1.032051e+09   TCP   NaN   6000.0   \n1      3/3/13 21:57     groucho-oregon  1.347834e+09   UDP   NaN   5270.0   \n2      3/3/13 21:58     groucho-oregon  2.947856e+09   TCP   NaN   2489.0   \n3      3/3/13 21:58                NaN           NaN   UDP   NaN  43235.0   \n4      3/3/13 21:58  groucho-singapore  3.587648e+09   TCP   NaN  56577.0   \n...             ...                ...           ...   ...   ...      ...   \n2994   3/5/13 16:34     groucho-norcal  1.604973e+09   TCP   NaN  10699.0   \n2995   3/5/13 16:34       zeppo-norcal  1.604973e+09   TCP   NaN  27067.0   \n2996   3/5/13 16:34     groucho-norcal  1.604973e+09   TCP   NaN  10699.0   \n2997   3/5/13 16:34       zeppo-norcal  1.604973e+09   TCP   NaN  27067.0   \n2998  3/25/13 16:34     groucho-norcal  1.604973e+09   TCP   NaN  10699.0   \n\n      destport            srcip         locale localeabbr postalcode  \\\n0       1433.0   61.131.218.218  Jiangxi Sheng         36        NaN   \n1       5060.0      80.86.82.58            NaN        NaN        NaN   \n2       1080.0  175.180.184.106         Taipei        NaN        NaN   \n3       1900.0              NaN         Oregon         OR      97124   \n4         80.0    213.215.43.23            NaN        NaN        NaN   \n...        ...              ...            ...        ...        ...   \n2994     135.0   95.169.240.147            NaN        NaN        NaN   \n2995     135.0   95.169.240.147            NaN        NaN        NaN   \n2996     135.0   95.169.240.147            NaN        NaN        NaN   \n2997     135.0   95.169.240.147            NaN        NaN        NaN   \n2998     135.0   95.169.240.147            NaN        NaN        NaN   \n\n      latitude  longitude  owner  \\\n0      28.5500   115.9333    NaN   \n1      51.0000     9.0000    NaN   \n2      25.0392   121.5250    NaN   \n3      45.5848  -122.9117    NaN   \n4      48.8600     2.3500    NaN   \n...        ...        ...    ...   \n2994   40.0000    -4.0000    NaN   \n2995   40.0000    -4.0000    NaN   \n2996   40.0000    -4.0000    NaN   \n2997   40.0000    -4.0000    NaN   \n2998   40.0000    -4.0000    NaN   \n\n                                                comment  int_col  \n0     He my polite be object oh change. Consider no ...   9464.0  \n1                                                   NaN   3731.0  \n2     Of on affixed civilly moments promise explain ...   3963.0  \n3                                                   NaN   1422.0  \n4     Affronting everything discretion men now own d...   9271.0  \n...                                                 ...      ...  \n2994                                                NaN   8938.0  \n2995                                                NaN   7979.0  \n2996                                                NaN   6271.0  \n2997                                                NaN   9801.0  \n2998                                                NaN  12582.0  \n\n[2999 rows x 16 columns]",
      "text/html": "<div>\n<style scoped>\n    .dataframe tbody tr th:only-of-type {\n        vertical-align: middle;\n    }\n\n    .dataframe tbody tr th {\n        vertical-align: top;\n    }\n\n    .dataframe thead th {\n        text-align: right;\n    }\n</style>\n<table border=\"1\" class=\"dataframe\">\n  <thead>\n    <tr style=\"text-align: right;\">\n      <th></th>\n      <th>datetime</th>\n      <th>host</th>\n      <th>src</th>\n      <th>proto</th>\n      <th>type</th>\n      <th>srcport</th>\n      <th>destport</th>\n      <th>srcip</th>\n      <th>locale</th>\n      <th>localeabbr</th>\n      <th>postalcode</th>\n      <th>latitude</th>\n      <th>longitude</th>\n      <th>owner</th>\n      <th>comment</th>\n      <th>int_col</th>\n    </tr>\n  </thead>\n  <tbody>\n    <tr>\n      <th>0</th>\n      <td>3/3/13 21:53</td>\n      <td>groucho-oregon</td>\n      <td>1.032051e+09</td>\n      <td>TCP</td>\n      <td>NaN</td>\n      <td>6000.0</td>\n      <td>1433.0</td>\n      <td>61.131.218.218</td>\n      <td>Jiangxi Sheng</td>\n      <td>36</td>\n      <td>NaN</td>\n      <td>28.5500</td>\n      <td>115.9333</td>\n      <td>NaN</td>\n      <td>He my polite be object oh change. Consider no ...</td>\n      <td>9464.0</td>\n    </tr>\n    <tr>\n      <th>1</th>\n      <td>3/3/13 21:57</td>\n      <td>groucho-oregon</td>\n      <td>1.347834e+09</td>\n      <td>UDP</td>\n      <td>NaN</td>\n      <td>5270.0</td>\n      <td>5060.0</td>\n      <td>80.86.82.58</td>\n      <td>NaN</td>\n      <td>NaN</td>\n      <td>NaN</td>\n      <td>51.0000</td>\n      <td>9.0000</td>\n      <td>NaN</td>\n      <td>NaN</td>\n      <td>3731.0</td>\n    </tr>\n    <tr>\n      <th>2</th>\n      <td>3/3/13 21:58</td>\n      <td>groucho-oregon</td>\n      <td>2.947856e+09</td>\n      <td>TCP</td>\n      <td>NaN</td>\n      <td>2489.0</td>\n      <td>1080.0</td>\n      <td>175.180.184.106</td>\n      <td>Taipei</td>\n      <td>NaN</td>\n      <td>NaN</td>\n      <td>25.0392</td>\n      <td>121.5250</td>\n      <td>NaN</td>\n      <td>Of on affixed civilly moments promise explain ...</td>\n      <td>3963.0</td>\n    </tr>\n    <tr>\n      <th>3</th>\n      <td>3/3/13 21:58</td>\n      <td>NaN</td>\n      <td>NaN</td>\n      <td>UDP</td>\n      <td>NaN</td>\n      <td>43235.0</td>\n      <td>1900.0</td>\n      <td>NaN</td>\n      <td>Oregon</td>\n      <td>OR</td>\n      <td>97124</td>\n      <td>45.5848</td>\n      <td>-122.9117</td>\n      <td>NaN</td>\n      <td>NaN</td>\n      <td>1422.0</td>\n    </tr>\n    <tr>\n      <th>4</th>\n      <td>3/3/13 21:58</td>\n      <td>groucho-singapore</td>\n      <td>3.587648e+09</td>\n      <td>TCP</td>\n      <td>NaN</td>\n      <td>56577.0</td>\n      <td>80.0</td>\n      <td>213.215.43.23</td>\n      <td>NaN</td>\n      <td>NaN</td>\n      <td>NaN</td>\n      <td>48.8600</td>\n      <td>2.3500</td>\n      <td>NaN</td>\n      <td>Affronting everything discretion men now own d...</td>\n      <td>9271.0</td>\n    </tr>\n    <tr>\n      <th>...</th>\n      <td>...</td>\n      <td>...</td>\n      <td>...</td>\n      <td>...</td>\n      <td>...</td>\n      <td>...</td>\n      <td>...</td>\n      <td>...</td>\n      <td>...</td>\n      <td>...</td>\n      <td>...</td>\n      <td>...</td>\n      <td>...</td>\n      <td>...</td>\n      <td>...</td>\n      <td>...</td>\n    </tr>\n    <tr>\n      <th>2994</th>\n      <td>3/5/13 16:34</td>\n      <td>groucho-norcal</td>\n      <td>1.604973e+09</td>\n      <td>TCP</td>\n      <td>NaN</td>\n      <td>10699.0</td>\n      <td>135.0</td>\n      <td>95.169.240.147</td>\n      <td>NaN</td>\n      <td>NaN</td>\n      <td>NaN</td>\n      <td>40.0000</td>\n      <td>-4.0000</td>\n      <td>NaN</td>\n      <td>NaN</td>\n      <td>8938.0</td>\n    </tr>\n    <tr>\n      <th>2995</th>\n      <td>3/5/13 16:34</td>\n      <td>zeppo-norcal</td>\n      <td>1.604973e+09</td>\n      <td>TCP</td>\n      <td>NaN</td>\n      <td>27067.0</td>\n      <td>135.0</td>\n      <td>95.169.240.147</td>\n      <td>NaN</td>\n      <td>NaN</td>\n      <td>NaN</td>\n      <td>40.0000</td>\n      <td>-4.0000</td>\n      <td>NaN</td>\n      <td>NaN</td>\n      <td>7979.0</td>\n    </tr>\n    <tr>\n      <th>2996</th>\n      <td>3/5/13 16:34</td>\n      <td>groucho-norcal</td>\n      <td>1.604973e+09</td>\n      <td>TCP</td>\n      <td>NaN</td>\n      <td>10699.0</td>\n      <td>135.0</td>\n      <td>95.169.240.147</td>\n      <td>NaN</td>\n      <td>NaN</td>\n      <td>NaN</td>\n      <td>40.0000</td>\n      <td>-4.0000</td>\n      <td>NaN</td>\n      <td>NaN</td>\n      <td>6271.0</td>\n    </tr>\n    <tr>\n      <th>2997</th>\n      <td>3/5/13 16:34</td>\n      <td>zeppo-norcal</td>\n      <td>1.604973e+09</td>\n      <td>TCP</td>\n      <td>NaN</td>\n      <td>27067.0</td>\n      <td>135.0</td>\n      <td>95.169.240.147</td>\n      <td>NaN</td>\n      <td>NaN</td>\n      <td>NaN</td>\n      <td>40.0000</td>\n      <td>-4.0000</td>\n      <td>NaN</td>\n      <td>NaN</td>\n      <td>9801.0</td>\n    </tr>\n    <tr>\n      <th>2998</th>\n      <td>3/25/13 16:34</td>\n      <td>groucho-norcal</td>\n      <td>1.604973e+09</td>\n      <td>TCP</td>\n      <td>NaN</td>\n      <td>10699.0</td>\n      <td>135.0</td>\n      <td>95.169.240.147</td>\n      <td>NaN</td>\n      <td>NaN</td>\n      <td>NaN</td>\n      <td>40.0000</td>\n      <td>-4.0000</td>\n      <td>NaN</td>\n      <td>NaN</td>\n      <td>12582.0</td>\n    </tr>\n  </tbody>\n</table>\n<p>2999 rows × 16 columns</p>\n</div>"
     },
     "execution_count": 4,
     "metadata": {},
     "output_type": "execute_result"
    }
   ],
   "source": [
    "guns_data_path = \"../dataprofiler/tests/data/csv/aws_honeypot_marx_geo.csv\"\n",
    "df = pd.read_csv(guns_data_path)\n",
    "df"
   ],
   "metadata": {
    "collapsed": false,
    "pycharm": {
     "name": "#%%\n"
    }
   }
  },
  {
   "cell_type": "markdown",
   "source": [
    "We will use the exception below to find values in the \"srcip\" column that are labeled as \"IPV4\" with a confidence of .85 or higher."
   ],
   "metadata": {
    "collapsed": false,
    "pycharm": {
     "name": "#%% md\n"
    }
   }
  },
  {
   "cell_type": "code",
   "execution_count": 8,
   "outputs": [
    {
     "data": {
      "text/plain": "Calculating Metrics:   0%|          | 0/8 [00:00<?, ?it/s]",
      "application/vnd.jupyter.widget-view+json": {
       "version_major": 2,
       "version_minor": 0,
       "model_id": "cb50b9a3228640899a946d98869dd4ff"
      }
     },
     "metadata": {},
     "output_type": "display_data"
    },
    {
     "data": {
      "text/plain": "{\n  \"meta\": {},\n  \"exception_info\": {\n    \"raised_exception\": false,\n    \"exception_traceback\": null,\n    \"exception_message\": null\n  },\n  \"result\": {\n    \"element_count\": 2999,\n    \"unexpected_count\": 9,\n    \"unexpected_percent\": 0.3003003003003003,\n    \"partial_unexpected_list\": [\n      \"223.205.56.169\",\n      \"175.180.185.50\",\n      \"61.155.150.235\",\n      \"122.18.145.108\",\n      \"67.64.190.41\",\n      \"42.96.151.105\",\n      \"188.128.123.4\",\n      \"145.236.164.210\",\n      \"95.169.240.147\"\n    ],\n    \"missing_count\": 2,\n    \"missing_percent\": 0.06668889629876625,\n    \"unexpected_percent_total\": 0.3001000333444481,\n    \"unexpected_percent_nonmissing\": 0.3003003003003003\n  },\n  \"success\": false\n}"
     },
     "execution_count": 8,
     "metadata": {},
     "output_type": "execute_result"
    }
   ],
   "source": [
    "validator = build_pandas_validator_with_data(df)\n",
    "results = validator.expect_column_values_confidence_for_data_label_to_be_greater_than_or_equal_to_threshold(\n",
    "    column='srcip',\n",
    "    data_label='IPV4',\n",
    "    threshold=.85\n",
    ")\n",
    "results"
   ],
   "metadata": {
    "collapsed": false,
    "pycharm": {
     "name": "#%%\n"
    }
   }
  },
  {
   "cell_type": "markdown",
   "source": [
    "Here you can see that there are 9 values in the \"srcip\" column which are detected by our expectation with a confidence value greater than .85."
   ],
   "metadata": {
    "collapsed": false,
    "pycharm": {
     "name": "#%% md\n"
    }
   }
  }
 ],
 "metadata": {
  "kernelspec": {
   "display_name": "Python 3",
   "language": "python",
   "name": "python3"
  },
  "language_info": {
   "codemirror_mode": {
    "name": "ipython",
    "version": 2
   },
   "file_extension": ".py",
   "mimetype": "text/x-python",
   "name": "python",
   "nbconvert_exporter": "python",
   "pygments_lexer": "ipython2",
   "version": "2.7.6"
  }
 },
 "nbformat": 4,
 "nbformat_minor": 0
}