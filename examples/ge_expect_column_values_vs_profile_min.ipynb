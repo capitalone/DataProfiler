{
 "cells": [
  {
   "cell_type": "markdown",
   "source": [
    "## Overview\n",
    "This notebook will demo how to utilize great expectations with the data profiler. The expectation that is being used in this example will expect that the max value of a specified column will report less than or equal to the max value which is passed in the previous report."
   ],
   "metadata": {
    "collapsed": false,
    "pycharm": {
     "name": "#%% md\n"
    }
   }
  },
  {
   "cell_type": "markdown",
   "source": [
    "## Instructions\n",
    "\n",
    "### Offline work\n",
    "Begin by creating a new directory for your project. We advise using a virtual environment which you can make by executing the following commands:\n",
    " - Initialize your virtual environment: `python3 -m venv venv`\n",
    " - Activate the virtual environment: `source venv/bin/activate`\n",
    "\n",
    "Now install the following packages:\n",
    "- DataProfiler: `pip install DataProfiler`\n",
    "- Great Expectations: `pip install great_expectations`\n",
    "- Capital One's DataProfiler Expectations: `pip install capitalone_dataprofiler_expectations`\n",
    "    - NOTE: this package is currently not published. You can download the package [here](https://github.com/great-expectations/great_expectations/tree/develop/contrib/capitalone_dataprofiler_expectations), and install it using: `pip install -e <path_to_downloaded_package>`\n",
    "    - Once the package is downloaded, the following line might need to be added to `great_expectations/contrib/capitalone_dataprofiler_expectations/setup.py` if the `pip install` is failing\n",
    "        - `py_modules=[]`\n",
    "\n",
    "Initialize Great Expectations:\n",
    "- Run the following command to initialize Great Expectations: `great_expectations init`\n",
    "    - NOTE: This step is crucial in order generate a `DataContext` that we will obtain later"
   ],
   "metadata": {
    "collapsed": false,
    "pycharm": {
     "name": "#%% md\n"
    }
   }
  },
  {
   "cell_type": "code",
   "execution_count": null,
   "outputs": [],
   "source": [
    "import dataprofiler as dp\n",
    "import pandas as pd\n",
    "import numpy as np\n",
    "import great_expectations as ge\n",
    "context = ge.get_context()\n",
    "from capitalone_dataprofiler_expectations.expectations.expect_column_values_to_be_equal_to_or_less_than_profile_max import ExpectColumnValuesToBeEqualToOrLessThanProfileMax\n",
    "from great_expectations.self_check.util import build_pandas_validator_with_data\n",
    "import os"
   ],
   "metadata": {
    "collapsed": false,
    "pycharm": {
     "name": "#%%\n"
    }
   }
  },
  {
   "cell_type": "markdown",
   "source": [
    "Below we are importing a csv file which holds data regarding gun crime statistics."
   ],
   "metadata": {
    "collapsed": false,
    "pycharm": {
     "name": "#%% md\n"
    }
   }
  },
  {
   "cell_type": "code",
   "execution_count": null,
   "outputs": [],
   "source": [
    "guns_data_path = \"../dataprofiler/tests/data/csv/guns.csv\"\n",
    "df = pd.read_csv(guns_data_path)\n",
    "df"
   ],
   "metadata": {
    "collapsed": false,
    "pycharm": {
     "name": "#%%\n"
    }
   }
  },
  {
   "cell_type": "markdown",
   "source": [
    "For this expectation we are going to compare the max value in one column across two different time frames in this dataset. Below we are gathering the different years that are recorded in this dataset."
   ],
   "metadata": {
    "collapsed": false,
    "pycharm": {
     "name": "#%% md\n"
    }
   }
  },
  {
   "cell_type": "code",
   "execution_count": null,
   "outputs": [],
   "source": [
    "df.sort_values(by=\"year\", axis=0, inplace=True)\n",
    "years = df[\"year\"].unique().tolist()\n",
    "years.reverse()\n",
    "years"
   ],
   "metadata": {
    "collapsed": false,
    "pycharm": {
     "name": "#%%\n"
    }
   }
  },
  {
   "cell_type": "markdown",
   "source": [
    "Now that we have the years, we will capture all records from each year in their own dataframes so we can process them separately."
   ],
   "metadata": {
    "collapsed": false,
    "pycharm": {
     "name": "#%% md\n"
    }
   }
  },
  {
   "cell_type": "code",
   "execution_count": null,
   "outputs": [],
   "source": [
    "individual_dataframes = []\n",
    "for year in years:\n",
    "    current_year_df = df.loc[df[\"year\"]==year]\n",
    "    current_year_df = current_year_df.drop(\"year\", axis=1).drop(\"month\", axis=1)\n",
    "    individual_dataframes.append(current_year_df)\n",
    "individual_dataframes[0]"
   ],
   "metadata": {
    "collapsed": false,
    "pycharm": {
     "name": "#%%\n"
    }
   }
  },
  {
   "cell_type": "markdown",
   "source": [
    "Now we will create a report on the first individual dataframe which corresponds to the year 2014, then we will output the maximum age from the \"age\" column as found in the report."
   ],
   "metadata": {
    "collapsed": false,
    "pycharm": {
     "name": "#%% md\n"
    }
   }
  },
  {
   "cell_type": "code",
   "execution_count": null,
   "outputs": [],
   "source": [
    "profiler_options = dp.ProfilerOptions()\n",
    "profiler_options.set({\"data_labeler.is_enabled\": False})\n",
    "profile = dp.Profiler(individual_dataframes[0], len(individual_dataframes[0]), options=profiler_options)\n",
    "report  = profile.report(report_options={\"output_format\": \"compact\"})\n",
    "report['data_stats'][3]['statistics']['max']"
   ],
   "metadata": {
    "collapsed": false,
    "pycharm": {
     "name": "#%%\n"
    }
   }
  },
  {
   "cell_type": "code",
   "execution_count": null,
   "outputs": [],
   "source": [
    "validator = build_pandas_validator_with_data(individual_dataframes[1])\n",
    "results = validator.expect_column_values_to_be_equal_to_or_less_than_profile_max(\n",
    "    column='age',\n",
    "    profile=report\n",
    ")\n",
    "results"
   ],
   "metadata": {
    "collapsed": false,
    "pycharm": {
     "name": "#%%\n"
    }
   }
  },
  {
   "cell_type": "markdown",
   "source": [
    "After we generate the expectation we find that there is one row with a value that exceeds the max age from the previous report with 107 as well as 11 rows with missing values."
   ],
   "metadata": {
    "collapsed": false,
    "pycharm": {
     "name": "#%% md\n"
    }
   }
  }
 ],
 "metadata": {
  "kernelspec": {
   "display_name": "Python 3",
   "language": "python",
   "name": "python3"
  },
  "language_info": {
   "codemirror_mode": {
    "name": "ipython",
    "version": 2
   },
   "file_extension": ".py",
   "mimetype": "text/x-python",
   "name": "python",
   "nbconvert_exporter": "python",
   "pygments_lexer": "ipython2",
   "version": "2.7.6"
  }
 },
 "nbformat": 4,
 "nbformat_minor": 0
}