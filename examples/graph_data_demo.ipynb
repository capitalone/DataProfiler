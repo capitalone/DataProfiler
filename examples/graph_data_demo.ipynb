{
 "cells": [
  {
   "cell_type": "markdown",
   "id": "228bb2a6",
   "metadata": {
    "pycharm": {
     "name": "#%% md\n"
    }
   },
   "source": [
    "# Graph Pipeline Demo"
   ]
  },
  {
   "cell_type": "markdown",
   "id": "cab7a569",
   "metadata": {
    "pycharm": {
     "name": "#%% md\n"
    }
   },
   "source": [
    "DataProfiler can also load and profile graph datasets. Similarly to the rest of DataProfiler profilers, this is split into two components:\n",
    "- GraphData\n",
    "- GraphProfiler\n",
    "\n",
    "We will demo the use of this graph pipeline.\n",
    "\n",
    "First, let's import the libraries needed for this example."
   ]
  },
  {
   "cell_type": "code",
   "execution_count": 28,
   "metadata": {
    "pycharm": {
     "name": "#%%\n"
    }
   },
   "outputs": [],
   "source": [
    "import os\n",
    "import sys\n",
    "import pprint\n",
    "\n",
    "try:\n",
    "    sys.path.insert(0, '..')\n",
    "    import dataprofiler as dp\n",
    "except ImportError:\n",
    "    import dataprofiler as dp\n",
    "\n",
    "data_path = \"../dataprofiler/tests/data\""
   ]
  },
  {
   "cell_type": "markdown",
   "metadata": {
    "pycharm": {
     "name": "#%% md\n"
    }
   },
   "source": [
    "We now input our dataset into the generic DataProfiler pipeline:"
   ]
  },
  {
   "cell_type": "code",
   "execution_count": 29,
   "metadata": {
    "pycharm": {
     "name": "#%%\n"
    }
   },
   "outputs": [
    {
     "name": "stdout",
     "output_type": "stream",
     "text": [
      "{'num_nodes': 278,\n",
      " 'num_edges': 199,\n",
      " 'categorical_attributes': ['categorical_status', 'node_id_dst', 'node_id_src'],\n",
      " 'continuous_attributes': ['continuous_weight'],\n",
      " 'avg_node_degree': 1.4316546762589928,\n",
      " 'global_max_component_size': 21,\n",
      " 'continuous_distribution': {'categorical_status': None,\n",
      "                             'continuous_weight': {'name': 'gamma',\n",
      "                                                   'scale': 269.20076739533147,\n",
      "                                                   'properties': {'best_fit_properties': [520400.63250485307,\n",
      "                                                                                          -670.0469933809193,\n",
      "                                                                                          0.0012974550576001786],\n",
      "                                                                  'mean': [520400.63250485307,\n",
      "                                                                           nan,\n",
      "                                                                           0.0012974550576001786],\n",
      "                                                                  'variance': [520400.63250485307,\n",
      "                                                                               nan,\n",
      "                                                                               0.0012974550576001786],\n",
      "                                                                  'skew': [0.0027724331801715226,\n",
      "                                                                           nan,\n",
      "                                                                           55.524394857720864],\n",
      "                                                                  'kurtosis': [1.1529578607773975e-05,\n",
      "                                                                               nan,\n",
      "                                                                               4624.437636474148]}},\n",
      "                             'node_id_dst': None,\n",
      "                             'node_id_src': None},\n",
      " 'categorical_distribution': {'categorical_status': {'bin_counts': [44, 61, 33,\n",
      "                                                                    11, 12, 7,\n",
      "                                                                    5, 8, 3, 2,\n",
      "                                                                    0, 1, 0, 2,\n",
      "                                                                    2, 1, 3, 1,\n",
      "                                                                    0, 0, 0, 0,\n",
      "                                                                    1, 0, 0, 1,\n",
      "                                                                    1],\n",
      "                                                     'bin_edges': [0.0,\n",
      "                                                                   4.888888888888889,\n",
      "                                                                   9.777777777777779,\n",
      "                                                                   14.666666666666668,\n",
      "                                                                   19.555555555555557,\n",
      "                                                                   24.444444444444446,\n",
      "                                                                   29.333333333333336,\n",
      "                                                                   34.22222222222223,\n",
      "                                                                   39.111111111111114,\n",
      "                                                                   44.0,\n",
      "                                                                   48.88888888888889,\n",
      "                                                                   53.777777777777786,\n",
      "                                                                   58.66666666666667,\n",
      "                                                                   63.55555555555556,\n",
      "                                                                   68.44444444444446,\n",
      "                                                                   73.33333333333334,\n",
      "                                                                   78.22222222222223,\n",
      "                                                                   83.11111111111111,\n",
      "                                                                   88.0,\n",
      "                                                                   92.8888888888889,\n",
      "                                                                   97.77777777777779,\n",
      "                                                                   102.66666666666667,\n",
      "                                                                   107.55555555555557,\n",
      "                                                                   112.44444444444446,\n",
      "                                                                   117.33333333333334,\n",
      "                                                                   122.22222222222223,\n",
      "                                                                   127.11111111111111,\n",
      "                                                                   132.0]},\n",
      "                              'continuous_weight': None,\n",
      "                              'node_id_dst': {'bin_counts': [26, 26, 20, 24, 16,\n",
      "                                                             19, 21, 16, 31],\n",
      "                                              'bin_edges': [0.0,\n",
      "                                                            55.333333333333336,\n",
      "                                                            110.66666666666667,\n",
      "                                                            166.0,\n",
      "                                                            221.33333333333334,\n",
      "                                                            276.6666666666667,\n",
      "                                                            332.0,\n",
      "                                                            387.33333333333337,\n",
      "                                                            442.6666666666667,\n",
      "                                                            498.0]},\n",
      "                              'node_id_src': {'bin_counts': [31, 21, 19, 18, 29,\n",
      "                                                             19, 23, 17, 22],\n",
      "                                              'bin_edges': [1.0,\n",
      "                                                            56.333333333333336,\n",
      "                                                            111.66666666666667,\n",
      "                                                            167.0,\n",
      "                                                            222.33333333333334,\n",
      "                                                            277.6666666666667,\n",
      "                                                            333.0,\n",
      "                                                            388.33333333333337,\n",
      "                                                            443.6666666666667,\n",
      "                                                            499.0]}},\n",
      " 'times': defaultdict(<class 'float'>,\n",
      "                      {'num_nodes': 2.86102294921875e-06,\n",
      "                       'num_edges': 6.723403930664062e-05,\n",
      "                       'categorical_attributes': 0.0011560916900634766,\n",
      "                       'continuous_attributes': 0.0010459423065185547,\n",
      "                       'avg_node_degree': 0.0002732276916503906,\n",
      "                       'global_max_component_size': 0.00051116943359375,\n",
      "                       'continuous_distribution': 0.12464523315429688,\n",
      "                       'categorical_distribution': 0.002393960952758789})}\n"
     ]
    }
   ],
   "source": [
    "data = dp.Data(os.path.join(data_path, \"csv/graph_data_csv_identify.csv\"))\n",
    "profile = dp.Profiler(data)\n",
    "\n",
    "report = profile.report()\n",
    "\n",
    "pp = pprint.PrettyPrinter(sort_dicts=False, compact=True)\n",
    "pp.pprint(report)"
   ]
  },
  {
   "cell_type": "markdown",
   "metadata": {
    "pycharm": {
     "name": "#%% md\n"
    }
   },
   "source": [
    "We notice that the `Data` class automatically detected the input file as graph data. The `GraphData` class is able to differentiate between tabular and graph csv data. After `Data` matches the input file as graph data, `GraphData` does the necessary work to load the csv data into a NetworkX Graph. \n",
    "\n",
    "`Profiler` runs `GraphProfiler` when graph data is input (or when `data_type=\"graph\"` is specified). The `report()` function outputs the profile for the user."
   ]
  },
  {
   "cell_type": "markdown",
   "metadata": {
    "pycharm": {
     "name": "#%% md\n"
    }
   },
   "source": [
    "## Profile"
   ]
  },
  {
   "cell_type": "markdown",
   "metadata": {
    "pycharm": {
     "name": "#%% md\n"
    }
   },
   "source": [
    "The profile skeleton looks like this:\n",
    "```\n",
    "profile = {\n",
    "    \"num_nodes\": ...,\n",
    "    \"num_edges\": ...,\n",
    "    \"categorical_attributes\": ...,\n",
    "    \"continuous_attributes\": ...,\n",
    "    \"avg_node_degree\": ...,\n",
    "    \"global_max_component_size\": ...,\n",
    "    \"continuous_distribution\": ...,\n",
    "    \"categorical_distribution\": ...,\n",
    "    \"times\": ...,\n",
    "}\n",
    "```\n",
    "\n",
    "Description of properties in profile:\n",
    "- `num_nodes`: number of nodes in the graph\n",
    "- `num_edges`: number of edges in the graph\n",
    "- `categorical_attributes`: list of categorical edge attributes\n",
    "- `continuous_attributes`: list of continuous edge attributes\n",
    "- `avg_node_degree`: average degree of nodes in the graph\n",
    "- `global_max_component_size`: size of largest global max component in the graph\n",
    "- `continuous_distribution`: dictionary of statistical properties for each continuous attribute\n",
    "- `categorical_distribution`: dictionary of statistical properties for each categorical attribute\n",
    "\n",
    "The `continuous_distribution` and `categorical_distribution` dictionaries list statistical properties for each edge attribute in the graph:\n",
    "```\n",
    "continuous_distribution = {\n",
    "    \"name\": ...,\n",
    "    \"scale\": ...,\n",
    "    \"properties\": ...,\n",
    "}\n",
    "```\n",
    "```\n",
    "categorical_distribution = {\n",
    "    \"bin_counts\": ...,\n",
    "    \"bin_edges\": ...,\n",
    "}\n",
    "```\n",
    "Description of each attribute:\n",
    "- Continuous distribution:\n",
    "    - `name`: name of the distribution\n",
    "    - `scale`: negative log likelihood used to scale distributions and compare them in `GraphProfiler`\n",
    "    - `properties`: list of distribution props\n",
    "- Categorical distribution:\n",
    "    - `bin_counts`: histogram bin counts\n",
    "    - `bin_edges`: histogram bin edges\n",
    "\n",
    "`properties` lists the following distribution properties: [optional: shape, loc, scale, mean, variance, skew, kurtosis]. The list can be either 6 length or 7 length depending on the distribution (extra shape parameter):\n",
    "- 6 length: norm, uniform, expon, logistic\n",
    "- 7 length: gamma, lognorm\n",
    "    - gamma: shape=`a` (float)\n",
    "    - lognorm: shape=`s` (float)\n",
    "    \n",
    "For more information on shape parameters `a` and `s`: https://docs.scipy.org/doc/scipy/tutorial/stats.html#shape-parameters"
   ]
  },
  {
   "cell_type": "markdown",
   "source": [
    "## Save and Load\n",
    "Below you will see an example of how a Graph Profile can be saved and loaded again."
   ],
   "metadata": {
    "collapsed": false,
    "pycharm": {
     "name": "#%% md\n"
    }
   }
  },
  {
   "cell_type": "code",
   "execution_count": 30,
   "outputs": [],
   "source": [
    "# The default save filepath is profile-<datetime>.pkl\n",
    "profile.save(filepath=\"profile.pkl\")\n",
    "\n",
    "new_profile = dp.GraphProfiler.load(\"profile.pkl\")\n",
    "new_report = new_profile.report()"
   ],
   "metadata": {
    "collapsed": false,
    "pycharm": {
     "name": "#%%\n"
    }
   }
  },
  {
   "cell_type": "code",
   "execution_count": 31,
   "outputs": [
    {
     "name": "stdout",
     "output_type": "stream",
     "text": [
      "{'num_nodes': 278,\n",
      " 'num_edges': 199,\n",
      " 'categorical_attributes': ['categorical_status', 'node_id_dst', 'node_id_src'],\n",
      " 'continuous_attributes': ['continuous_weight'],\n",
      " 'avg_node_degree': 1.4316546762589928,\n",
      " 'global_max_component_size': 21,\n",
      " 'continuous_distribution': {'categorical_status': None,\n",
      "                             'continuous_weight': {'name': 'gamma',\n",
      "                                                   'scale': 269.20076739533147,\n",
      "                                                   'properties': {'best_fit_properties': [520400.63250485307,\n",
      "                                                                                          -670.0469933809193,\n",
      "                                                                                          0.0012974550576001786],\n",
      "                                                                  'mean': [520400.63250485307,\n",
      "                                                                           nan,\n",
      "                                                                           0.0012974550576001786],\n",
      "                                                                  'variance': [520400.63250485307,\n",
      "                                                                               nan,\n",
      "                                                                               0.0012974550576001786],\n",
      "                                                                  'skew': [0.0027724331801715226,\n",
      "                                                                           nan,\n",
      "                                                                           55.524394857720864],\n",
      "                                                                  'kurtosis': [1.1529578607773975e-05,\n",
      "                                                                               nan,\n",
      "                                                                               4624.437636474148]}},\n",
      "                             'node_id_dst': None,\n",
      "                             'node_id_src': None},\n",
      " 'categorical_distribution': {'categorical_status': {'bin_counts': [44, 61, 33,\n",
      "                                                                    11, 12, 7,\n",
      "                                                                    5, 8, 3, 2,\n",
      "                                                                    0, 1, 0, 2,\n",
      "                                                                    2, 1, 3, 1,\n",
      "                                                                    0, 0, 0, 0,\n",
      "                                                                    1, 0, 0, 1,\n",
      "                                                                    1],\n",
      "                                                     'bin_edges': [0.0,\n",
      "                                                                   4.888888888888889,\n",
      "                                                                   9.777777777777779,\n",
      "                                                                   14.666666666666668,\n",
      "                                                                   19.555555555555557,\n",
      "                                                                   24.444444444444446,\n",
      "                                                                   29.333333333333336,\n",
      "                                                                   34.22222222222223,\n",
      "                                                                   39.111111111111114,\n",
      "                                                                   44.0,\n",
      "                                                                   48.88888888888889,\n",
      "                                                                   53.777777777777786,\n",
      "                                                                   58.66666666666667,\n",
      "                                                                   63.55555555555556,\n",
      "                                                                   68.44444444444446,\n",
      "                                                                   73.33333333333334,\n",
      "                                                                   78.22222222222223,\n",
      "                                                                   83.11111111111111,\n",
      "                                                                   88.0,\n",
      "                                                                   92.8888888888889,\n",
      "                                                                   97.77777777777779,\n",
      "                                                                   102.66666666666667,\n",
      "                                                                   107.55555555555557,\n",
      "                                                                   112.44444444444446,\n",
      "                                                                   117.33333333333334,\n",
      "                                                                   122.22222222222223,\n",
      "                                                                   127.11111111111111,\n",
      "                                                                   132.0]},\n",
      "                              'continuous_weight': None,\n",
      "                              'node_id_dst': {'bin_counts': [26, 26, 20, 24, 16,\n",
      "                                                             19, 21, 16, 31],\n",
      "                                              'bin_edges': [0.0,\n",
      "                                                            55.333333333333336,\n",
      "                                                            110.66666666666667,\n",
      "                                                            166.0,\n",
      "                                                            221.33333333333334,\n",
      "                                                            276.6666666666667,\n",
      "                                                            332.0,\n",
      "                                                            387.33333333333337,\n",
      "                                                            442.6666666666667,\n",
      "                                                            498.0]},\n",
      "                              'node_id_src': {'bin_counts': [31, 21, 19, 18, 29,\n",
      "                                                             19, 23, 17, 22],\n",
      "                                              'bin_edges': [1.0,\n",
      "                                                            56.333333333333336,\n",
      "                                                            111.66666666666667,\n",
      "                                                            167.0,\n",
      "                                                            222.33333333333334,\n",
      "                                                            277.6666666666667,\n",
      "                                                            333.0,\n",
      "                                                            388.33333333333337,\n",
      "                                                            443.6666666666667,\n",
      "                                                            499.0]}},\n",
      " 'times': defaultdict(<class 'float'>,\n",
      "                      {'num_nodes': 2.86102294921875e-06,\n",
      "                       'num_edges': 6.723403930664062e-05,\n",
      "                       'categorical_attributes': 0.0011560916900634766,\n",
      "                       'continuous_attributes': 0.0010459423065185547,\n",
      "                       'avg_node_degree': 0.0002732276916503906,\n",
      "                       'global_max_component_size': 0.00051116943359375,\n",
      "                       'continuous_distribution': 0.12464523315429688,\n",
      "                       'categorical_distribution': 0.002393960952758789})}\n"
     ]
    }
   ],
   "source": [
    "pp.pprint(report)"
   ],
   "metadata": {
    "collapsed": false,
    "pycharm": {
     "name": "#%%\n"
    }
   }
  },
  {
   "cell_type": "markdown",
   "source": [
    "## Diff\n",
    "If we wanted to ensure that this new profile was the same as the previous profile that we loaded, we could compare them using the diff functionality."
   ],
   "metadata": {
    "collapsed": false,
    "pycharm": {
     "name": "#%% md\n"
    }
   }
  },
  {
   "cell_type": "code",
   "execution_count": 32,
   "outputs": [],
   "source": [
    "diff = profile.diff(new_profile)"
   ],
   "metadata": {
    "collapsed": false,
    "pycharm": {
     "name": "#%%\n"
    }
   }
  },
  {
   "cell_type": "code",
   "execution_count": 33,
   "outputs": [
    {
     "name": "stdout",
     "output_type": "stream",
     "text": [
      "{'num_nodes': 'unchanged',\n",
      " 'num_edges': 'unchanged',\n",
      " 'categorical_attributes': 'unchanged',\n",
      " 'continuous_attributes': 'unchanged',\n",
      " 'avg_node_degree': 'unchanged',\n",
      " 'global_max_component_size': 'unchanged',\n",
      " 'continuous_distribution': [{},\n",
      "                             {'categorical_status': 'unchanged',\n",
      "                              'continuous_weight': [{},\n",
      "                                                    {'name': 'unchanged',\n",
      "                                                     'scale': 'unchanged',\n",
      "                                                     'properties': [{},\n",
      "                                                                    {'best_fit_properties': 'unchanged',\n",
      "                                                                     'mean': [[nan],\n",
      "                                                                              [520400.63250485307,\n",
      "                                                                               0.0012974550576001786],\n",
      "                                                                              [nan]],\n",
      "                                                                     'variance': [[nan],\n",
      "                                                                                  [520400.63250485307,\n",
      "                                                                                   0.0012974550576001786],\n",
      "                                                                                  [nan]],\n",
      "                                                                     'skew': [[nan],\n",
      "                                                                              [0.0027724331801715226,\n",
      "                                                                               55.524394857720864],\n",
      "                                                                              [nan]],\n",
      "                                                                     'kurtosis': [[nan],\n",
      "                                                                                  [1.1529578607773975e-05,\n",
      "                                                                                   4624.437636474148],\n",
      "                                                                                  [nan]]},\n",
      "                                                                    {}]},\n",
      "                                                    {}],\n",
      "                              'node_id_dst': 'unchanged',\n",
      "                              'node_id_src': 'unchanged'},\n",
      "                             {}],\n",
      " 'categorical_distribution': [{},\n",
      "                              {'categorical_status': [{},\n",
      "                                                      {'bin_counts': 'unchanged',\n",
      "                                                       'bin_edges': 'unchanged'},\n",
      "                                                      {}],\n",
      "                               'continuous_weight': 'unchanged',\n",
      "                               'node_id_dst': [{},\n",
      "                                               {'bin_counts': 'unchanged',\n",
      "                                                'bin_edges': 'unchanged'},\n",
      "                                               {}],\n",
      "                               'node_id_src': [{},\n",
      "                                               {'bin_counts': 'unchanged',\n",
      "                                                'bin_edges': 'unchanged'},\n",
      "                                               {}]},\n",
      "                              {}],\n",
      " 'times': {'num_nodes': 'unchanged',\n",
      "           'num_edges': 'unchanged',\n",
      "           'categorical_attributes': 'unchanged',\n",
      "           'continuous_attributes': 'unchanged',\n",
      "           'avg_node_degree': 'unchanged',\n",
      "           'global_max_component_size': 'unchanged',\n",
      "           'continuous_distribution': 'unchanged',\n",
      "           'categorical_distribution': 'unchanged'}}\n"
     ]
    }
   ],
   "source": [
    "pp.pprint(diff)"
   ],
   "metadata": {
    "collapsed": false,
    "pycharm": {
     "name": "#%%\n"
    }
   }
  },
  {
   "cell_type": "markdown",
   "source": [
    "We can also import different graph data and observe the differences between the two graph profiles."
   ],
   "metadata": {
    "collapsed": false,
    "pycharm": {
     "name": "#%% md\n"
    }
   }
  },
  {
   "cell_type": "code",
   "execution_count": 34,
   "outputs": [],
   "source": [
    "other_data = dp.Data(os.path.join(data_path, \"csv/graph-differentiator-input-positive.csv\"))\n",
    "other_profile = dp.Profiler(other_data)\n",
    "\n",
    "other_diff = profile.diff(other_profile)"
   ],
   "metadata": {
    "collapsed": false,
    "pycharm": {
     "name": "#%%\n"
    }
   }
  },
  {
   "cell_type": "code",
   "execution_count": 35,
   "outputs": [
    {
     "name": "stdout",
     "output_type": "stream",
     "text": [
      "{'num_nodes': 269,\n",
      " 'num_edges': 191,\n",
      " 'categorical_attributes': [['categorical_status'],\n",
      "                            ['node_id_dst', 'node_id_src'],\n",
      "                            ['attrib_id', 'open_date_src', 'open_date_dst',\n",
      "                             'attrib_type', 'edge_date']],\n",
      " 'continuous_attributes': [['continuous_weight'], [], []],\n",
      " 'avg_node_degree': -0.3461231015187849,\n",
      " 'global_max_component_size': 13,\n",
      " 'continuous_distribution': [{'categorical_status': None,\n",
      "                              'continuous_weight': {'name': 'gamma',\n",
      "                                                    'scale': 269.20076739533147,\n",
      "                                                    'properties': {'best_fit_properties': [520400.63250485307,\n",
      "                                                                                           -670.0469933809193,\n",
      "                                                                                           0.0012974550576001786],\n",
      "                                                                   'mean': [520400.63250485307,\n",
      "                                                                            nan,\n",
      "                                                                            0.0012974550576001786],\n",
      "                                                                   'variance': [520400.63250485307,\n",
      "                                                                                nan,\n",
      "                                                                                0.0012974550576001786],\n",
      "                                                                   'skew': [0.0027724331801715226,\n",
      "                                                                            nan,\n",
      "                                                                            55.524394857720864],\n",
      "                                                                   'kurtosis': [1.1529578607773975e-05,\n",
      "                                                                                nan,\n",
      "                                                                                4624.437636474148]}}},\n",
      "                             {'node_id_dst': 'unchanged',\n",
      "                              'node_id_src': 'unchanged'},\n",
      "                             {'attrib_id': None,\n",
      "                              'open_date_src': None,\n",
      "                              'open_date_dst': None,\n",
      "                              'attrib_type': None,\n",
      "                              'edge_date': None}],\n",
      " 'categorical_distribution': [{'categorical_status': {'bin_counts': [44, 61, 33,\n",
      "                                                                     11, 12, 7,\n",
      "                                                                     5, 8, 3, 2,\n",
      "                                                                     0, 1, 0, 2,\n",
      "                                                                     2, 1, 3, 1,\n",
      "                                                                     0, 0, 0, 0,\n",
      "                                                                     1, 0, 0, 1,\n",
      "                                                                     1],\n",
      "                                                      'bin_edges': [0.0,\n",
      "                                                                    4.888888888888889,\n",
      "                                                                    9.777777777777779,\n",
      "                                                                    14.666666666666668,\n",
      "                                                                    19.555555555555557,\n",
      "                                                                    24.444444444444446,\n",
      "                                                                    29.333333333333336,\n",
      "                                                                    34.22222222222223,\n",
      "                                                                    39.111111111111114,\n",
      "                                                                    44.0,\n",
      "                                                                    48.88888888888889,\n",
      "                                                                    53.777777777777786,\n",
      "                                                                    58.66666666666667,\n",
      "                                                                    63.55555555555556,\n",
      "                                                                    68.44444444444446,\n",
      "                                                                    73.33333333333334,\n",
      "                                                                    78.22222222222223,\n",
      "                                                                    83.11111111111111,\n",
      "                                                                    88.0,\n",
      "                                                                    92.8888888888889,\n",
      "                                                                    97.77777777777779,\n",
      "                                                                    102.66666666666667,\n",
      "                                                                    107.55555555555557,\n",
      "                                                                    112.44444444444446,\n",
      "                                                                    117.33333333333334,\n",
      "                                                                    122.22222222222223,\n",
      "                                                                    127.11111111111111,\n",
      "                                                                    132.0]},\n",
      "                               'continuous_weight': None},\n",
      "                              {'node_id_dst': [{},\n",
      "                                               {'bin_counts': [[26, 26, 20, 24,\n",
      "                                                                16, 19, 21, 16,\n",
      "                                                                31],\n",
      "                                                               [],\n",
      "                                                               [1, 0, 0, 7]],\n",
      "                                                'bin_edges': [[0.0,\n",
      "                                                               55.333333333333336,\n",
      "                                                               110.66666666666667,\n",
      "                                                               166.0,\n",
      "                                                               221.33333333333334,\n",
      "                                                               276.6666666666667,\n",
      "                                                               332.0,\n",
      "                                                               387.33333333333337,\n",
      "                                                               442.6666666666667,\n",
      "                                                               498.0],\n",
      "                                                              [],\n",
      "                                                              [1.0, 1.25, 1.5,\n",
      "                                                               1.75, 2.0]]},\n",
      "                                               {}],\n",
      "                               'node_id_src': [{},\n",
      "                                               {'bin_counts': [[31, 21, 19, 18,\n",
      "                                                                29, 19, 23, 17,\n",
      "                                                                22],\n",
      "                                                               [],\n",
      "                                                               [2, 2, 2, 2]],\n",
      "                                                'bin_edges': [[1.0,\n",
      "                                                               56.333333333333336,\n",
      "                                                               111.66666666666667,\n",
      "                                                               167.0,\n",
      "                                                               222.33333333333334,\n",
      "                                                               277.6666666666667,\n",
      "                                                               333.0,\n",
      "                                                               388.33333333333337,\n",
      "                                                               443.6666666666667,\n",
      "                                                               499.0],\n",
      "                                                              [],\n",
      "                                                              [2.0, 3.75, 5.5,\n",
      "                                                               7.25, 9.0]]},\n",
      "                                               {}]},\n",
      "                              {'attrib_id': {'bin_counts': [8],\n",
      "                                             'bin_edges': [-0.5, 0.5]},\n",
      "                               'open_date_src': {'bin_counts': [8],\n",
      "                                                 'bin_edges': [-0.5, 0.5]},\n",
      "                               'open_date_dst': {'bin_counts': [8],\n",
      "                                                 'bin_edges': [-0.5, 0.5]},\n",
      "                               'attrib_type': {'bin_counts': [8],\n",
      "                                               'bin_edges': [-0.5, 0.5]},\n",
      "                               'edge_date': {'bin_counts': [8],\n",
      "                                             'bin_edges': [-0.5, 0.5]}}],\n",
      " 'times': {'num_nodes': 9.5367431640625e-07,\n",
      "           'num_edges': 6.008148193359375e-05,\n",
      "           'categorical_attributes': 0.0010581016540527344,\n",
      "           'continuous_attributes': 0.0009739398956298828,\n",
      "           'avg_node_degree': 0.0002601146697998047,\n",
      "           'global_max_component_size': 0.000408172607421875,\n",
      "           'continuous_distribution': 0.12458539009094238,\n",
      "           'categorical_distribution': 0.0004277229309082031}}\n"
     ]
    }
   ],
   "source": [
    "pp.pprint(other_diff)"
   ],
   "metadata": {
    "collapsed": false,
    "pycharm": {
     "name": "#%%\n"
    }
   }
  },
  {
   "cell_type": "markdown",
   "source": [
    "## Conclusion"
   ],
   "metadata": {
    "collapsed": false,
    "pycharm": {
     "name": "#%% md\n"
    }
   }
  },
  {
   "cell_type": "markdown",
   "source": [
    "We have shown the graph pipeline in the DataProfiler. It works similarly to the current DataProfiler implementation."
   ],
   "metadata": {
    "collapsed": false,
    "pycharm": {
     "name": "#%% md\n"
    }
   }
  }
 ],
 "metadata": {
  "kernelspec": {
   "display_name": "Python 3",
   "language": "python",
   "name": "python3"
  },
  "language_info": {
   "codemirror_mode": {
    "name": "ipython",
    "version": 3
   },
   "file_extension": ".py",
   "mimetype": "text/x-python",
   "name": "python",
   "nbconvert_exporter": "python",
   "pygments_lexer": "ipython3",
   "version": "3.8.13"
  },
  "orig_nbformat": 4
 },
 "nbformat": 4,
 "nbformat_minor": 2
}
