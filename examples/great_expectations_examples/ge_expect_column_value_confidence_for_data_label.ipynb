{
 "cells": [
  {
   "cell_type": "markdown",
   "source": [
    "## Overview\n",
    "This notebook will demo how to utilize great expectations with the data profiler. The expectation that is being used in this example will expect values in a specified column to be labeled with a confidence value greather than or equal to what is specified in the expectation."
   ],
   "metadata": {
    "collapsed": false,
    "pycharm": {
     "name": "#%% md\n"
    }
   }
  },
  {
   "cell_type": "markdown",
   "source": [
    "## Instructions\n",
    "\n",
    "### Offline work\n",
    "Begin by creating a new directory for your project. We advise using a virtual environment which you can make by executing the following commands:\n",
    " - Initialize your virtual environment: `python3 -m venv venv`\n",
    " - Activate the virtual environment: `source venv/bin/activate`\n",
    "\n",
    "Now install the following packages:\n",
    "- In the `great_expectations_examples` directory run `pip install -r requirements.txt`\n",
    "- Capital One's DataProfiler Expectations: `pip install capitalone_dataprofiler_expectations`\n",
    "    - NOTE: this package is currently not published. You can download the package [here](https://github.com/great-expectations/great_expectations/tree/develop/contrib/capitalone_dataprofiler_expectations), and install it using: `pip install -e <path_to_downloaded_package>`\n",
    "    - Once the package is downloaded, the following line might need to be added to `great_expectations/contrib/capitalone_dataprofiler_expectations/setup.py` if the `pip install` is failing\n",
    "        - `py_modules=[]`\n",
    "\n",
    "Initialize Great Expectations:\n",
    "- Run the following command to initialize Great Expectations: `great_expectations init`\n",
    "    - NOTE: This step is crucial in order generate a `DataContext` that we will obtain later"
   ],
   "metadata": {
    "collapsed": false,
    "pycharm": {
     "name": "#%% md\n"
    }
   }
  },
  {
   "cell_type": "code",
   "execution_count": null,
   "outputs": [],
   "source": [
    "import os\n",
    "\n",
    "import pandas as pd\n",
    "import numpy as np\n",
    "\n",
    "import dataprofiler as dp\n",
    "import great_expectations as ge\n",
    "context = ge.get_context()\n",
    "from capitalone_dataprofiler_expectations.expectations.expect_column_values_confidence_for_data_label_to_be_greater_than_or_equal_to_threshold import ExpectColumnValuesConfidenceForDataLabelToBeGreaterThanOrEqualToThreshold\n",
    "from great_expectations.self_check.util import build_pandas_validator_with_data"
   ],
   "metadata": {
    "collapsed": false,
    "pycharm": {
     "name": "#%%\n"
    }
   }
  },
  {
   "cell_type": "markdown",
   "source": [
    "Below we are going to import a csv file into a dataframe. This csv holds a column named \"srcip\" which will be used further below."
   ],
   "metadata": {
    "collapsed": false,
    "pycharm": {
     "name": "#%% md\n"
    }
   }
  },
  {
   "cell_type": "code",
   "execution_count": null,
   "outputs": [],
   "source": [
    "guns_data_path = \"../../dataprofiler/tests/data/csv/aws_honeypot_marx_geo.csv\"\n",
    "df = pd.read_csv(guns_data_path)\n",
    "df"
   ],
   "metadata": {
    "collapsed": false,
    "pycharm": {
     "name": "#%%\n"
    }
   }
  },
  {
   "cell_type": "markdown",
   "source": [
    "We will use the exception below to find values in the \"srcip\" column that are labeled as \"IPV4\" with a confidence of .85 or higher."
   ],
   "metadata": {
    "collapsed": false,
    "pycharm": {
     "name": "#%% md\n"
    }
   }
  },
  {
   "cell_type": "code",
   "execution_count": null,
   "outputs": [],
   "source": [
    "validator = build_pandas_validator_with_data(df)\n",
    "results = validator.expect_column_values_confidence_for_data_label_to_be_greater_than_or_equal_to_threshold(\n",
    "    column='srcip',\n",
    "    data_label='IPV4',\n",
    "    threshold=.85\n",
    ")\n",
    "results"
   ],
   "metadata": {
    "collapsed": false,
    "pycharm": {
     "name": "#%%\n"
    }
   }
  },
  {
   "cell_type": "markdown",
   "source": [
    "Here you can see that there are 9 values in the \"srcip\" column which are detected by our expectation with a confidence value greater than .85."
   ],
   "metadata": {
    "collapsed": false,
    "pycharm": {
     "name": "#%% md\n"
    }
   }
  }
 ],
 "metadata": {
  "kernelspec": {
   "display_name": "Python 3",
   "language": "python",
   "name": "python3"
  },
  "language_info": {
   "codemirror_mode": {
    "name": "ipython",
    "version": 2
   },
   "file_extension": ".py",
   "mimetype": "text/x-python",
   "name": "python",
   "nbconvert_exporter": "python",
   "pygments_lexer": "ipython2",
   "version": "2.7.6"
  }
 },
 "nbformat": 4,
 "nbformat_minor": 0
}