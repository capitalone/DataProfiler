{
 "cells": [
  {
   "cell_type": "markdown",
   "source": [
    "## Overview\n",
    "This notebook will demo how to utilize great expectations with the data profiler. The expectation that is being used in this example will expect that the max value of a specified column will report less than or equal to the max value which is passed in the previous report."
   ],
   "metadata": {
    "collapsed": false,
    "pycharm": {
     "name": "#%% md\n"
    }
   }
  },
  {
   "cell_type": "code",
   "execution_count": 7,
   "outputs": [],
   "source": [
    "import os\n",
    "\n",
    "import pandas as pd\n",
    "import numpy as np\n",
    "\n",
    "# Great expectations imports\n",
    "import great_expectations as ge\n",
    "from capitalone_dataprofiler_expectations.expectations. \\\n",
    "    expect_column_values_to_be_equal_to_or_less_than_profile_max \\\n",
    "    import ExpectColumnValuesToBeEqualToOrLessThanProfileMax\n",
    "from great_expectations.self_check.util import build_pandas_validator_with_data\n",
    "\n",
    "# Data Profiler import\n",
    "import dataprofiler as dp"
   ],
   "metadata": {
    "collapsed": false,
    "pycharm": {
     "name": "#%%\n"
    }
   }
  },
  {
   "cell_type": "markdown",
   "source": [
    "Below we are importing a csv file which holds data regarding gun crime statistics."
   ],
   "metadata": {
    "collapsed": false,
    "pycharm": {
     "name": "#%% md\n"
    }
   }
  },
  {
   "cell_type": "code",
   "execution_count": 8,
   "outputs": [
    {
     "data": {
      "text/plain": "        year  month    intent  police sex   age                    race  \\\n0       2012      1   Suicide       0   M  34.0  Asian/Pacific Islander   \n1       2012      1   Suicide       0   F  21.0                   White   \n2       2012      1   Suicide       0   M  60.0                   White   \n3       2012      2   Suicide       0   M  64.0                   White   \n4       2012      2   Suicide       0   M  31.0                   White   \n...      ...    ...       ...     ...  ..   ...                     ...   \n100793  2014     12  Homicide       0   M  36.0                   Black   \n100794  2014     12  Homicide       0   M  19.0                   Black   \n100795  2014     12  Homicide       0   M  20.0                   Black   \n100796  2014     12  Homicide       0   M  22.0                Hispanic   \n100797  2014     10  Homicide       0   M  43.0                   Black   \n\n        hispanic              place  education  \n0            100               Home        4.0  \n1            100             Street        3.0  \n2            100    Other specified        4.0  \n3            100               Home        4.0  \n4            100    Other specified        2.0  \n...          ...                ...        ...  \n100793       100               Home        2.0  \n100794       100             Street        2.0  \n100795       100             Street        2.0  \n100796       260             Street        1.0  \n100797       100  Other unspecified        2.0  \n\n[100798 rows x 10 columns]",
      "text/html": "<div>\n<style scoped>\n    .dataframe tbody tr th:only-of-type {\n        vertical-align: middle;\n    }\n\n    .dataframe tbody tr th {\n        vertical-align: top;\n    }\n\n    .dataframe thead th {\n        text-align: right;\n    }\n</style>\n<table border=\"1\" class=\"dataframe\">\n  <thead>\n    <tr style=\"text-align: right;\">\n      <th></th>\n      <th>year</th>\n      <th>month</th>\n      <th>intent</th>\n      <th>police</th>\n      <th>sex</th>\n      <th>age</th>\n      <th>race</th>\n      <th>hispanic</th>\n      <th>place</th>\n      <th>education</th>\n    </tr>\n  </thead>\n  <tbody>\n    <tr>\n      <th>0</th>\n      <td>2012</td>\n      <td>1</td>\n      <td>Suicide</td>\n      <td>0</td>\n      <td>M</td>\n      <td>34.0</td>\n      <td>Asian/Pacific Islander</td>\n      <td>100</td>\n      <td>Home</td>\n      <td>4.0</td>\n    </tr>\n    <tr>\n      <th>1</th>\n      <td>2012</td>\n      <td>1</td>\n      <td>Suicide</td>\n      <td>0</td>\n      <td>F</td>\n      <td>21.0</td>\n      <td>White</td>\n      <td>100</td>\n      <td>Street</td>\n      <td>3.0</td>\n    </tr>\n    <tr>\n      <th>2</th>\n      <td>2012</td>\n      <td>1</td>\n      <td>Suicide</td>\n      <td>0</td>\n      <td>M</td>\n      <td>60.0</td>\n      <td>White</td>\n      <td>100</td>\n      <td>Other specified</td>\n      <td>4.0</td>\n    </tr>\n    <tr>\n      <th>3</th>\n      <td>2012</td>\n      <td>2</td>\n      <td>Suicide</td>\n      <td>0</td>\n      <td>M</td>\n      <td>64.0</td>\n      <td>White</td>\n      <td>100</td>\n      <td>Home</td>\n      <td>4.0</td>\n    </tr>\n    <tr>\n      <th>4</th>\n      <td>2012</td>\n      <td>2</td>\n      <td>Suicide</td>\n      <td>0</td>\n      <td>M</td>\n      <td>31.0</td>\n      <td>White</td>\n      <td>100</td>\n      <td>Other specified</td>\n      <td>2.0</td>\n    </tr>\n    <tr>\n      <th>...</th>\n      <td>...</td>\n      <td>...</td>\n      <td>...</td>\n      <td>...</td>\n      <td>...</td>\n      <td>...</td>\n      <td>...</td>\n      <td>...</td>\n      <td>...</td>\n      <td>...</td>\n    </tr>\n    <tr>\n      <th>100793</th>\n      <td>2014</td>\n      <td>12</td>\n      <td>Homicide</td>\n      <td>0</td>\n      <td>M</td>\n      <td>36.0</td>\n      <td>Black</td>\n      <td>100</td>\n      <td>Home</td>\n      <td>2.0</td>\n    </tr>\n    <tr>\n      <th>100794</th>\n      <td>2014</td>\n      <td>12</td>\n      <td>Homicide</td>\n      <td>0</td>\n      <td>M</td>\n      <td>19.0</td>\n      <td>Black</td>\n      <td>100</td>\n      <td>Street</td>\n      <td>2.0</td>\n    </tr>\n    <tr>\n      <th>100795</th>\n      <td>2014</td>\n      <td>12</td>\n      <td>Homicide</td>\n      <td>0</td>\n      <td>M</td>\n      <td>20.0</td>\n      <td>Black</td>\n      <td>100</td>\n      <td>Street</td>\n      <td>2.0</td>\n    </tr>\n    <tr>\n      <th>100796</th>\n      <td>2014</td>\n      <td>12</td>\n      <td>Homicide</td>\n      <td>0</td>\n      <td>M</td>\n      <td>22.0</td>\n      <td>Hispanic</td>\n      <td>260</td>\n      <td>Street</td>\n      <td>1.0</td>\n    </tr>\n    <tr>\n      <th>100797</th>\n      <td>2014</td>\n      <td>10</td>\n      <td>Homicide</td>\n      <td>0</td>\n      <td>M</td>\n      <td>43.0</td>\n      <td>Black</td>\n      <td>100</td>\n      <td>Other unspecified</td>\n      <td>2.0</td>\n    </tr>\n  </tbody>\n</table>\n<p>100798 rows × 10 columns</p>\n</div>"
     },
     "execution_count": 8,
     "metadata": {},
     "output_type": "execute_result"
    }
   ],
   "source": [
    "context = ge.get_context()\n",
    "guns_data_path = \"../../dataprofiler/tests/data/csv/guns.csv\"\n",
    "df = pd.read_csv(guns_data_path)\n",
    "df"
   ],
   "metadata": {
    "collapsed": false,
    "pycharm": {
     "name": "#%%\n"
    }
   }
  },
  {
   "cell_type": "markdown",
   "source": [
    "For this expectation we are going to compare the max value in one column across two different time frames in this dataset. Below we are gathering the different years that are recorded in this dataset."
   ],
   "metadata": {
    "collapsed": false,
    "pycharm": {
     "name": "#%% md\n"
    }
   }
  },
  {
   "cell_type": "code",
   "execution_count": 9,
   "outputs": [
    {
     "data": {
      "text/plain": "[2014, 2013, 2012]"
     },
     "execution_count": 9,
     "metadata": {},
     "output_type": "execute_result"
    }
   ],
   "source": [
    "df.sort_values(by=\"year\", axis=0, inplace=True)\n",
    "years = df[\"year\"].unique().tolist()\n",
    "years.reverse()\n",
    "years"
   ],
   "metadata": {
    "collapsed": false,
    "pycharm": {
     "name": "#%%\n"
    }
   }
  },
  {
   "cell_type": "markdown",
   "source": [
    "Now that we have the years, we will capture all records from each year in their own dataframes so we can process them separately."
   ],
   "metadata": {
    "collapsed": false,
    "pycharm": {
     "name": "#%% md\n"
    }
   }
  },
  {
   "cell_type": "code",
   "execution_count": 10,
   "outputs": [
    {
     "data": {
      "text/plain": "          intent  police sex   age                    race  hispanic  \\\n89596    Suicide       0   M  28.0                   White       100   \n89597    Suicide       0   M  51.0                   White       100   \n89598    Suicide       0   M  43.0  Asian/Pacific Islander       100   \n89599   Homicide       0   M  43.0                   Black       100   \n89600   Homicide       0   F  22.0                   White       100   \n...          ...     ...  ..   ...                     ...       ...   \n78390   Homicide       0   M  25.0                   Black       100   \n78389    Suicide       0   M  23.0                   White       100   \n78388   Homicide       0   M  23.0                   Black       100   \n78386   Homicide       0   M  23.0                   Black       100   \n100797  Homicide       0   M  43.0                   Black       100   \n\n                    place  education  \n89596                Home        2.0  \n89597     Other specified        2.0  \n89598                Home        4.0  \n89599   Other unspecified        2.0  \n89600     Other specified        2.0  \n...                   ...        ...  \n78390              Street        2.0  \n78389     Other specified        3.0  \n78388              Street        1.0  \n78386              Street        2.0  \n100797  Other unspecified        2.0  \n\n[33599 rows x 8 columns]",
      "text/html": "<div>\n<style scoped>\n    .dataframe tbody tr th:only-of-type {\n        vertical-align: middle;\n    }\n\n    .dataframe tbody tr th {\n        vertical-align: top;\n    }\n\n    .dataframe thead th {\n        text-align: right;\n    }\n</style>\n<table border=\"1\" class=\"dataframe\">\n  <thead>\n    <tr style=\"text-align: right;\">\n      <th></th>\n      <th>intent</th>\n      <th>police</th>\n      <th>sex</th>\n      <th>age</th>\n      <th>race</th>\n      <th>hispanic</th>\n      <th>place</th>\n      <th>education</th>\n    </tr>\n  </thead>\n  <tbody>\n    <tr>\n      <th>89596</th>\n      <td>Suicide</td>\n      <td>0</td>\n      <td>M</td>\n      <td>28.0</td>\n      <td>White</td>\n      <td>100</td>\n      <td>Home</td>\n      <td>2.0</td>\n    </tr>\n    <tr>\n      <th>89597</th>\n      <td>Suicide</td>\n      <td>0</td>\n      <td>M</td>\n      <td>51.0</td>\n      <td>White</td>\n      <td>100</td>\n      <td>Other specified</td>\n      <td>2.0</td>\n    </tr>\n    <tr>\n      <th>89598</th>\n      <td>Suicide</td>\n      <td>0</td>\n      <td>M</td>\n      <td>43.0</td>\n      <td>Asian/Pacific Islander</td>\n      <td>100</td>\n      <td>Home</td>\n      <td>4.0</td>\n    </tr>\n    <tr>\n      <th>89599</th>\n      <td>Homicide</td>\n      <td>0</td>\n      <td>M</td>\n      <td>43.0</td>\n      <td>Black</td>\n      <td>100</td>\n      <td>Other unspecified</td>\n      <td>2.0</td>\n    </tr>\n    <tr>\n      <th>89600</th>\n      <td>Homicide</td>\n      <td>0</td>\n      <td>F</td>\n      <td>22.0</td>\n      <td>White</td>\n      <td>100</td>\n      <td>Other specified</td>\n      <td>2.0</td>\n    </tr>\n    <tr>\n      <th>...</th>\n      <td>...</td>\n      <td>...</td>\n      <td>...</td>\n      <td>...</td>\n      <td>...</td>\n      <td>...</td>\n      <td>...</td>\n      <td>...</td>\n    </tr>\n    <tr>\n      <th>78390</th>\n      <td>Homicide</td>\n      <td>0</td>\n      <td>M</td>\n      <td>25.0</td>\n      <td>Black</td>\n      <td>100</td>\n      <td>Street</td>\n      <td>2.0</td>\n    </tr>\n    <tr>\n      <th>78389</th>\n      <td>Suicide</td>\n      <td>0</td>\n      <td>M</td>\n      <td>23.0</td>\n      <td>White</td>\n      <td>100</td>\n      <td>Other specified</td>\n      <td>3.0</td>\n    </tr>\n    <tr>\n      <th>78388</th>\n      <td>Homicide</td>\n      <td>0</td>\n      <td>M</td>\n      <td>23.0</td>\n      <td>Black</td>\n      <td>100</td>\n      <td>Street</td>\n      <td>1.0</td>\n    </tr>\n    <tr>\n      <th>78386</th>\n      <td>Homicide</td>\n      <td>0</td>\n      <td>M</td>\n      <td>23.0</td>\n      <td>Black</td>\n      <td>100</td>\n      <td>Street</td>\n      <td>2.0</td>\n    </tr>\n    <tr>\n      <th>100797</th>\n      <td>Homicide</td>\n      <td>0</td>\n      <td>M</td>\n      <td>43.0</td>\n      <td>Black</td>\n      <td>100</td>\n      <td>Other unspecified</td>\n      <td>2.0</td>\n    </tr>\n  </tbody>\n</table>\n<p>33599 rows × 8 columns</p>\n</div>"
     },
     "execution_count": 10,
     "metadata": {},
     "output_type": "execute_result"
    }
   ],
   "source": [
    "individual_dataframes = []\n",
    "for year in years:\n",
    "    current_year_df = df.loc[df[\"year\"]==year]\n",
    "    current_year_df = current_year_df.drop(\"year\", axis=1).drop(\"month\", axis=1)\n",
    "    individual_dataframes.append(current_year_df)\n",
    "individual_dataframes[0]"
   ],
   "metadata": {
    "collapsed": false,
    "pycharm": {
     "name": "#%%\n"
    }
   }
  },
  {
   "cell_type": "markdown",
   "source": [
    "Now we will create a report on the first individual dataframe which corresponds to the year 2014, then we will output the maximum age from the \"age\" column as found in the report."
   ],
   "metadata": {
    "collapsed": false,
    "pycharm": {
     "name": "#%% md\n"
    }
   }
  },
  {
   "cell_type": "code",
   "execution_count": 11,
   "outputs": [
    {
     "name": "stdout",
     "output_type": "stream",
     "text": [
      "INFO:DataProfiler.profilers.profile_builder: Finding the Null values in the columns...  (with 8 processes)\n"
     ]
    },
    {
     "name": "stderr",
     "output_type": "stream",
     "text": [
      "100%|██████████| 8/8 [00:04<00:00,  1.60it/s]\n",
      "/Users/CXE445/Documents/DataProfiler/dataprofiler/profilers/profile_builder.py:587: FutureWarning: Passing a set as an indexer is deprecated and will raise in a future version. Use a list instead.\n",
      "  df_series = df_series.loc[true_sample_list]\n",
      "/Users/CXE445/Documents/DataProfiler/dataprofiler/profilers/profile_builder.py:587: FutureWarning: Passing a set as an indexer is deprecated and will raise in a future version. Use a list instead.\n",
      "  df_series = df_series.loc[true_sample_list]\n",
      "/Users/CXE445/Documents/DataProfiler/dataprofiler/profilers/profile_builder.py:587: FutureWarning: Passing a set as an indexer is deprecated and will raise in a future version. Use a list instead.\n",
      "  df_series = df_series.loc[true_sample_list]\n",
      "/Users/CXE445/Documents/DataProfiler/dataprofiler/profilers/profile_builder.py:587: FutureWarning: Passing a set as an indexer is deprecated and will raise in a future version. Use a list instead.\n",
      "  df_series = df_series.loc[true_sample_list]\n",
      "/Users/CXE445/Documents/DataProfiler/dataprofiler/profilers/profile_builder.py:587: FutureWarning: Passing a set as an indexer is deprecated and will raise in a future version. Use a list instead.\n",
      "  df_series = df_series.loc[true_sample_list]\n",
      "/Users/CXE445/Documents/DataProfiler/dataprofiler/profilers/profile_builder.py:587: FutureWarning: Passing a set as an indexer is deprecated and will raise in a future version. Use a list instead.\n",
      "  df_series = df_series.loc[true_sample_list]\n",
      "/Users/CXE445/Documents/DataProfiler/dataprofiler/profilers/profile_builder.py:587: FutureWarning: Passing a set as an indexer is deprecated and will raise in a future version. Use a list instead.\n",
      "  df_series = df_series.loc[true_sample_list]\n",
      "/Users/CXE445/Documents/DataProfiler/dataprofiler/profilers/profile_builder.py:587: FutureWarning: Passing a set as an indexer is deprecated and will raise in a future version. Use a list instead.\n",
      "  df_series = df_series.loc[true_sample_list]\n"
     ]
    },
    {
     "name": "stdout",
     "output_type": "stream",
     "text": [
      "INFO:DataProfiler.profilers.profile_builder: Calculating the statistics...  (with 4 processes)\n"
     ]
    },
    {
     "name": "stderr",
     "output_type": "stream",
     "text": [
      "100%|██████████| 8/8 [00:03<00:00,  2.23it/s]\n",
      "/Users/CXE445/Documents/DataProfiler/dataprofiler/profilers/numerical_column_stats.py:1597: DeprecationWarning: `np.float` is a deprecated alias for the builtin `float`. To silence this warning, use `float` by itself. Doing this will not modify any behavior and is safe. If you specifically wanted the numpy scalar type, use `np.float64` here.\n",
      "Deprecated in NumPy 1.20; for more details and guidance: https://numpy.org/devdocs/release/1.20.0-notes.html#deprecations\n",
      "  if isinstance(val, np.float):\n"
     ]
    },
    {
     "data": {
      "text/plain": "102.0"
     },
     "execution_count": 11,
     "metadata": {},
     "output_type": "execute_result"
    }
   ],
   "source": [
    "profiler_options = dp.ProfilerOptions()\n",
    "profiler_options.set({\"data_labeler.is_enabled\": False})\n",
    "profile = dp.Profiler(individual_dataframes[0], len(individual_dataframes[0]), options=profiler_options)\n",
    "report  = profile.report(report_options={\"output_format\": \"compact\"})\n",
    "report['data_stats'][3]['statistics']['max']"
   ],
   "metadata": {
    "collapsed": false,
    "pycharm": {
     "name": "#%%\n"
    }
   }
  },
  {
   "cell_type": "code",
   "execution_count": 12,
   "outputs": [
    {
     "data": {
      "text/plain": "Calculating Metrics:   0%|          | 0/8 [00:00<?, ?it/s]",
      "application/vnd.jupyter.widget-view+json": {
       "version_major": 2,
       "version_minor": 0,
       "model_id": "c32c66bd20b0410786be7000ddc55776"
      }
     },
     "metadata": {},
     "output_type": "display_data"
    },
    {
     "data": {
      "text/plain": "{\n  \"result\": {\n    \"element_count\": 33636,\n    \"unexpected_count\": 1,\n    \"unexpected_percent\": 0.002973977695167286,\n    \"partial_unexpected_list\": [\n      107.0\n    ],\n    \"missing_count\": 11,\n    \"missing_percent\": 0.03270305624925675,\n    \"unexpected_percent_total\": 0.0029730051135687953,\n    \"unexpected_percent_nonmissing\": 0.002973977695167286\n  },\n  \"success\": false,\n  \"meta\": {},\n  \"exception_info\": {\n    \"raised_exception\": false,\n    \"exception_traceback\": null,\n    \"exception_message\": null\n  }\n}"
     },
     "execution_count": 12,
     "metadata": {},
     "output_type": "execute_result"
    }
   ],
   "source": [
    "validator = build_pandas_validator_with_data(individual_dataframes[1])\n",
    "results = validator.expect_column_values_to_be_equal_to_or_less_than_profile_max(\n",
    "    column='age',\n",
    "    profile=report\n",
    ")\n",
    "results"
   ],
   "metadata": {
    "collapsed": false,
    "pycharm": {
     "name": "#%%\n"
    }
   }
  },
  {
   "cell_type": "markdown",
   "source": [
    "After we generate the expectation we find that there is one row with a value that exceeds the max age from the previous report with 107 as well as 11 rows with missing values."
   ],
   "metadata": {
    "collapsed": false,
    "pycharm": {
     "name": "#%% md\n"
    }
   }
  }
 ],
 "metadata": {
  "kernelspec": {
   "display_name": "Python 3",
   "language": "python",
   "name": "python3"
  },
  "language_info": {
   "codemirror_mode": {
    "name": "ipython",
    "version": 2
   },
   "file_extension": ".py",
   "mimetype": "text/x-python",
   "name": "python",
   "nbconvert_exporter": "python",
   "pygments_lexer": "ipython2",
   "version": "2.7.6"
  }
 },
 "nbformat": 4,
 "nbformat_minor": 0
}