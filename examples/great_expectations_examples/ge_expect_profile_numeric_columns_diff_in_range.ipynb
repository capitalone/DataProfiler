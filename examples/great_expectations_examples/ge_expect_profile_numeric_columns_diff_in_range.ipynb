{
 "cells": [
  {
   "cell_type": "markdown",
   "source": [
    "## Overview\n",
    "This notebook will demo how to utilize great expectations with the data profiler. The expectation that is being used in this example will expect that the difference in metrics between two reports is within the specified range."
   ],
   "metadata": {
    "collapsed": false,
    "pycharm": {
     "name": "#%% md\n"
    }
   }
  },
  {
   "cell_type": "code",
   "execution_count": null,
   "outputs": [],
   "source": [
    "import os\n",
    "\n",
    "import pandas as pd\n",
    "import numpy as np\n",
    "\n",
    "import dataprofiler as dp\n",
    "import great_expectations as ge\n",
    "context = ge.get_context()\n",
    "from capitalone_dataprofiler_expectations.expectations.expect_column_values_confidence_for_data_label_to_be_greater_than_or_equal_to_threshold import ExpectColumnValuesConfidenceForDataLabelToBeGreaterThanOrEqualToThreshold\n",
    "from great_expectations.self_check.util import build_pandas_validator_with_data"
   ],
   "metadata": {
    "collapsed": false,
    "pycharm": {
     "name": "#%%\n"
    }
   }
  },
  {
   "cell_type": "markdown",
   "source": [
    "Below we are importing a csv file which holds data regarding gun crime statistics."
   ],
   "metadata": {
    "collapsed": false,
    "pycharm": {
     "name": "#%% md\n"
    }
   }
  },
  {
   "cell_type": "code",
   "execution_count": null,
   "outputs": [],
   "source": [
    "guns_data_path = \"../../dataprofiler/tests/data/csv/guns.csv\"\n",
    "df = pd.read_csv(guns_data_path)\n",
    "df"
   ],
   "metadata": {
    "collapsed": false,
    "pycharm": {
     "name": "#%%\n"
    }
   }
  },
  {
   "cell_type": "markdown",
   "source": [
    "For this expectation we are going to compare the max value in one column across two different time frames in this dataset. Below we are gathering the different years that are recorded in this dataset."
   ],
   "metadata": {
    "collapsed": false,
    "pycharm": {
     "name": "#%% md\n"
    }
   }
  },
  {
   "cell_type": "code",
   "execution_count": null,
   "outputs": [],
   "source": [
    "df.sort_values(by=\"year\", axis=0, inplace=True)\n",
    "years = df[\"year\"].unique().tolist()\n",
    "years.reverse()\n",
    "years"
   ],
   "metadata": {
    "collapsed": false,
    "pycharm": {
     "name": "#%%\n"
    }
   }
  },
  {
   "cell_type": "markdown",
   "source": [
    "Now that we have the years, we will capture all records from each year in their own dataframes so we can process them separately."
   ],
   "metadata": {
    "collapsed": false,
    "pycharm": {
     "name": "#%% md\n"
    }
   }
  },
  {
   "cell_type": "code",
   "execution_count": null,
   "outputs": [],
   "source": [
    "individual_dataframes = []\n",
    "for year in years:\n",
    "    current_year_df = df.loc[df[\"year\"]==year]\n",
    "    current_year_df = current_year_df.drop(\"year\", axis=1).drop(\"month\", axis=1)\n",
    "    individual_dataframes.append(current_year_df)\n",
    "individual_dataframes[0]"
   ],
   "metadata": {
    "collapsed": false,
    "pycharm": {
     "name": "#%%\n"
    }
   }
  },
  {
   "cell_type": "markdown",
   "source": [
    "Now we will create a report on the first individual dataframe which corresponds to the year 2014, then we will output the report for this dataframe."
   ],
   "metadata": {
    "collapsed": false,
    "pycharm": {
     "name": "#%% md\n"
    }
   }
  },
  {
   "cell_type": "code",
   "execution_count": null,
   "outputs": [],
   "source": [
    "profiler_options = dp.ProfilerOptions()\n",
    "profiler_options.set({\"data_labeler.is_enabled\": False})\n",
    "\n",
    "profile = dp.Profiler(individual_dataframes[0], len(individual_dataframes[0]), options=profiler_options)\n",
    "profile.save(filepath='previous_profile.pkl')\n",
    "report  = profile.report(report_options={\"output_format\": \"compact\"})\n",
    "report['data_stats'][3]['statistics']['max']"
   ],
   "metadata": {
    "collapsed": false,
    "pycharm": {
     "name": "#%%\n"
    }
   }
  },
  {
   "cell_type": "code",
   "execution_count": null,
   "outputs": [],
   "source": [
    "validator = build_pandas_validator_with_data(individual_dataframes[1])\n",
    "results = validator.expect_profile_numeric_columns_diff_between_inclusive_threshold_range(\n",
    "    profile_path='previous_profile.pkl',\n",
    "    limit_check_report_keys={\n",
    "            \"age\": {\n",
    "                \"min\": {\"lower\": 0, \"upper\": 10.0},\n",
    "                \"max\": {\"lower\": 10, \"upper\": 30.0},\n",
    "            },\n",
    "            \"education\": {\n",
    "                \"min\": {\"lower\": 0, \"upper\": 2},\n",
    "                \"max\": {\"lower\": 0, \"upper\": 4},\n",
    "            },\n",
    "        }\n",
    ")\n",
    "results"
   ],
   "metadata": {
    "collapsed": false,
    "pycharm": {
     "name": "#%%\n"
    }
   }
  },
  {
   "cell_type": "markdown",
   "source": [
    "Above you can see that the max age is populating the unexpected_values. This is because the actual difference between the two profiles for max age was -5. This is because the max age of the first profile is 102 and the max age of the second profile is 107. All other key checks from the reports are within the bounds sent above."
   ],
   "metadata": {
    "collapsed": false,
    "pycharm": {
     "name": "#%% md\n"
    }
   }
  }
 ],
 "metadata": {
  "kernelspec": {
   "display_name": "Python 3",
   "language": "python",
   "name": "python3"
  },
  "language_info": {
   "codemirror_mode": {
    "name": "ipython",
    "version": 2
   },
   "file_extension": ".py",
   "mimetype": "text/x-python",
   "name": "python",
   "nbconvert_exporter": "python",
   "pygments_lexer": "ipython2",
   "version": "2.7.6"
  }
 },
 "nbformat": 4,
 "nbformat_minor": 0
}