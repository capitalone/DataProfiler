{
 "cells": [
  {
   "cell_type": "markdown",
   "metadata": {},
   "source": [
    "## Historical Profilers\n",
    "\n",
    "The **Historical Profiler** class is meant to provide a data object that could be used to track profiles that were taken on the same dataset over time.\n",
    "\n",
    "This provides the user with a suite of all new capabilities that primarly are related to measuring the way data changes over time. \n",
    "\n",
    "Follow the cells in this notebook to see a basic example of the **HistoricalProfiler** in action."
   ]
  },
  {
   "cell_type": "markdown",
   "metadata": {},
   "source": [
    "Importing Required Libraries & Data"
   ]
  },
  {
   "cell_type": "code",
   "execution_count": null,
   "metadata": {},
   "outputs": [],
   "source": [
    "import os\n",
    "import json\n",
    "import dataprofiler as dp\n",
    "import numpy as np\n",
    "import pandas as pd\n",
    "import tensorflow as tf\n",
    "tf.compat.v1.logging.set_verbosity(tf.compat.v1.logging.ERROR)"
   ]
  },
  {
   "cell_type": "code",
   "execution_count": null,
   "metadata": {},
   "outputs": [],
   "source": [
    "data_path = \"../dataprofiler/tests/data/csv/ny_climate.csv\"\n",
    "\n",
    "df = pd.read_csv(data_path)\n",
    "df"
   ]
  },
  {
   "cell_type": "code",
   "execution_count": null,
   "metadata": {},
   "outputs": [],
   "source": [
    "df.sort_values(by=\"YEAR\", axis=0, inplace=True)\n",
    "df"
   ]
  },
  {
   "cell_type": "code",
   "execution_count": null,
   "metadata": {},
   "outputs": [],
   "source": [
    "years = df[\"YEAR\"].unique().tolist()\n",
    "years.reverse()\n",
    "years"
   ]
  },
  {
   "cell_type": "code",
   "execution_count": null,
   "metadata": {},
   "outputs": [],
   "source": [
    "individualDataframes = []\n",
    "for year in years:\n",
    "    current_year_df = df.loc[df[\"YEAR\"]==year]\n",
    "    current_year_df = current_year_df.drop(\"YEAR\", axis=1)\n",
    "    individualDataframes.append(current_year_df)\n",
    "individualDataframes[0]"
   ]
  },
  {
   "cell_type": "markdown",
   "metadata": {},
   "source": [
    "Now we must create DataProfiler Profiler objects for each of these DataFrames"
   ]
  },
  {
   "cell_type": "code",
   "execution_count": null,
   "metadata": {},
   "outputs": [],
   "source": [
    "profilerObjs = []\n",
    "for data in individualDataframes:\n",
    "    profilerObjs.append(dp.Profiler(data))\n",
    "profilerObjs[0]"
   ]
  },
  {
   "cell_type": "markdown",
   "metadata": {},
   "source": [
    "### Create\n",
    "\n",
    "##### Instantiate new HistoricalProfiler()"
   ]
  },
  {
   "cell_type": "code",
   "execution_count": null,
   "metadata": {},
   "outputs": [],
   "source": [
    "historical_profiler = dp.HistoricalProfiler(profilerObjs[1:])\n",
    "historical_profiler"
   ]
  },
  {
   "cell_type": "code",
   "execution_count": null,
   "metadata": {},
   "outputs": [],
   "source": [
    "historical_profiler.historical_profile"
   ]
  },
  {
   "cell_type": "markdown",
   "metadata": {},
   "source": [
    "##### Append new Profile"
   ]
  },
  {
   "cell_type": "code",
   "execution_count": null,
   "metadata": {},
   "outputs": [],
   "source": [
    "historical_profiler.append(profilerObjs[0])\n",
    "historical_profiler.historical_profile\n"
   ]
  },
  {
   "cell_type": "markdown",
   "metadata": {},
   "source": [
    "### Read\n",
    "\n",
    "##### Get Most Recent"
   ]
  },
  {
   "cell_type": "code",
   "execution_count": null,
   "metadata": {},
   "outputs": [],
   "source": [
    "historical_profiler.get_most_recent_profile_report()"
   ]
  },
  {
   "cell_type": "markdown",
   "metadata": {},
   "source": [
    "##### Get Oldest Report"
   ]
  },
  {
   "cell_type": "code",
   "execution_count": null,
   "metadata": {},
   "outputs": [],
   "source": [
    "historical_profiler.get_oldest_profile_report()"
   ]
  },
  {
   "cell_type": "markdown",
   "metadata": {},
   "source": [
    "##### Get Report From Index"
   ]
  },
  {
   "cell_type": "code",
   "execution_count": null,
   "metadata": {},
   "outputs": [],
   "source": [
    "historical_profiler.get_profile_report_by_index(3)"
   ]
  },
  {
   "cell_type": "markdown",
   "metadata": {},
   "source": [
    "##### Get Full Report"
   ]
  },
  {
   "cell_type": "code",
   "execution_count": null,
   "metadata": {},
   "outputs": [],
   "source": [
    "historical_profiler.report()"
   ]
  },
  {
   "cell_type": "markdown",
   "metadata": {},
   "source": [
    "OR"
   ]
  },
  {
   "cell_type": "code",
   "execution_count": null,
   "metadata": {},
   "outputs": [],
   "source": [
    "historical_profiler.historical_profile"
   ]
  },
  {
   "cell_type": "markdown",
   "metadata": {},
   "source": [
    "##### Get Length"
   ]
  },
  {
   "cell_type": "code",
   "execution_count": null,
   "metadata": {},
   "outputs": [],
   "source": [
    "len(historical_profiler)"
   ]
  },
  {
   "cell_type": "markdown",
   "metadata": {},
   "source": [
    "### Update\n",
    "\n",
    "##### Update Profile Report at Index"
   ]
  },
  {
   "cell_type": "markdown",
   "metadata": {},
   "source": [
    "Previous most recent report:"
   ]
  },
  {
   "cell_type": "code",
   "execution_count": null,
   "metadata": {},
   "outputs": [],
   "source": [
    "historical_profiler.get_most_recent_profile_report()"
   ]
  },
  {
   "cell_type": "code",
   "execution_count": null,
   "metadata": {},
   "outputs": [],
   "source": [
    "historical_profiler.update_profile_report_at_index(profile=profilerObjs[2], index=0)"
   ]
  },
  {
   "cell_type": "markdown",
   "metadata": {},
   "source": [
    "New most recent report:"
   ]
  },
  {
   "cell_type": "code",
   "execution_count": null,
   "metadata": {},
   "outputs": [],
   "source": [
    "historical_profiler.get_most_recent_profile_report()"
   ]
  },
  {
   "cell_type": "markdown",
   "metadata": {},
   "source": [
    "### Delete\n",
    "\n",
    "##### Delete Report at Index"
   ]
  },
  {
   "cell_type": "code",
   "execution_count": null,
   "metadata": {},
   "outputs": [],
   "source": [
    "len(historical_profiler)"
   ]
  },
  {
   "cell_type": "code",
   "execution_count": null,
   "metadata": {},
   "outputs": [],
   "source": [
    "historical_profiler.delete_profile_report_at_index(0)"
   ]
  },
  {
   "cell_type": "code",
   "execution_count": null,
   "metadata": {},
   "outputs": [],
   "source": [
    "len(historical_profiler)"
   ]
  },
  {
   "cell_type": "markdown",
   "metadata": {},
   "source": [
    "### Supplementary Reports\n",
    "\n",
    "##### Consecutive Profiles Diff Report\n",
    "\n",
    "The consecutive profiles diff report will return a report in which the value of every key contains a list with #_of_profiles-1 values denoting the change between each consecutive profile within this historical profiler.\n",
    "\n",
    "For instance, for the `min` key in the `statistics` dict of `column_one` in a consecutive diff report, we may see value of the form `[70, -10, 25, 20]`\n",
    "- Denoting the Following:\n",
    "    - the difference in `min` between `profile_4` and `profile_3` was *+20*\n",
    "        - `+` indicating that this value increased as time moved forward\n",
    "    - the difference in `min` between `profile_3` and `profile_2` was *+25*\n",
    "    - the difference in `min` between `profile_2` and `profile_1` was *-10*\n",
    "        - `-` indicating that this value decreased as time moved forward\n",
    "    - the difference in `min` between `profile_1` and `profile_0` was *+70*\n",
    "\n",
    "**Note:** Here, `profile_0` refers to the most recent profile in time and `profile_4` refers to the oldest profile in time.\n"
   ]
  },
  {
   "cell_type": "code",
   "execution_count": null,
   "metadata": {},
   "outputs": [],
   "source": [
    "historical_profiler.get_consecutive_diffs_report()"
   ]
  },
  {
   "cell_type": "markdown",
   "metadata": {},
   "source": [
    "##### Consecutive Diffs Min and Max Report\n",
    "\n",
    "This report is used to find the *global* minimum and maximum differences between each key across each profile report.\n",
    "\n",
    "For example, if the consecutive diff report value for `min` of `column_one` was equal to `[70, -10, 25, 20]`, `min` would equal `-10` and `max` would equal `70`\n",
    "\n",
    "This report is returned as a dictionary of the following structure:\n",
    "\n",
    "```\n",
    "{\n",
    "    \"global_stats\": {\n",
    "        ...,\n",
    "        \"row_count\": (x, y)\n",
    "    }\n",
    "    \"data_stats\": [\n",
    "        {\n",
    "            ...,\n",
    "            \"statistics\": {\n",
    "                ...,\n",
    "                \"min\": (x, y),\n",
    "                ...,\n",
    "            }\n",
    "        },\n",
    "        ...\n",
    "    ]\n",
    "}\n",
    "```\n",
    "Where `x` and `y` denote the `min` and `max` for each key, respectively"
   ]
  },
  {
   "cell_type": "code",
   "execution_count": null,
   "metadata": {},
   "outputs": [],
   "source": [
    "historical_profiler.get_diff_min_and_max_report()"
   ]
  }
 ],
 "metadata": {
  "kernelspec": {
   "display_name": "Python 3.8.9 ('venv': venv)",
   "language": "python",
   "name": "python3"
  },
  "language_info": {
   "codemirror_mode": {
    "name": "ipython",
    "version": 3
   },
   "file_extension": ".py",
   "mimetype": "text/x-python",
   "name": "python",
   "nbconvert_exporter": "python",
   "pygments_lexer": "ipython3",
   "version": "3.8.9"
  },
  "orig_nbformat": 4,
  "vscode": {
   "interpreter": {
    "hash": "b763ba2d8f48700d722f535167776e097060cd6ab642a45ac0705748ebad623e"
   }
  }
 },
 "nbformat": 4,
 "nbformat_minor": 2
}
