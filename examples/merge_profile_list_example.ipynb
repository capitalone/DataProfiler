{
 "cells": [
  {
   "cell_type": "markdown",
   "id": "60af5256",
   "metadata": {},
   "source": [
    "# Overview\n",
    "\n",
    "This is an example of a utils in the dataprofiler for distributed merging of profile objects. This assumes the user is providing a list of profile objects to the function for merging all the lists together. "
   ]
  },
  {
   "cell_type": "markdown",
   "id": "7eee37ff",
   "metadata": {},
   "source": [
    "# Imports\n",
    "\n",
    "Let's start by importing the necessary packages..."
   ]
  },
  {
   "cell_type": "code",
   "execution_count": 1,
   "id": "f0d27009",
   "metadata": {},
   "outputs": [],
   "source": [
    "import os\n",
    "import sys\n",
    "import json\n",
    "\n",
    "import pandas as pd\n",
    "import tensorflow as tf\n",
    "\n",
    "try:\n",
    "    sys.path.insert(0, '..')\n",
    "    import dataprofiler as dp\n",
    "    from dataprofiler.profilers.utils import merge_profile_list\n",
    "except ImportError:\n",
    "    import dataprofiler as dp\n",
    "    from dataprofiler.profilers.utils import merge_profile_list\n",
    "\n",
    "# remove extra tf loggin\n",
    "tf.compat.v1.logging.set_verbosity(tf.compat.v1.logging.ERROR)"
   ]
  },
  {
   "cell_type": "markdown",
   "id": "b4369e64",
   "metadata": {},
   "source": [
    "## Setup the Data and Profiler"
   ]
  },
  {
   "cell_type": "markdown",
   "id": "410c3c4d",
   "metadata": {},
   "source": [
    "This section shows the basic example of the Data Profiler. \n",
    "\n",
    "1. Instantiate a Pandas dataframe.\n",
    "2. Pass the dataframe to the `Profiler` and instantiate two separate profilers in a list."
   ]
  },
  {
   "cell_type": "code",
   "execution_count": 2,
   "id": "d3567c82",
   "metadata": {},
   "outputs": [
    {
     "name": "stderr",
     "output_type": "stream",
     "text": [
      "2022-08-08 12:50:43.340749: I tensorflow/core/platform/cpu_feature_guard.cc:193] This TensorFlow binary is optimized with oneAPI Deep Neural Network Library (oneDNN) to use the following CPU instructions in performance-critical operations:  AVX2 FMA\n",
      "To enable them in other operations, rebuild TensorFlow with the appropriate compiler flags.\n"
     ]
    },
    {
     "name": "stdout",
     "output_type": "stream",
     "text": [
      "INFO:DataProfiler.profilers.profile_builder: Finding the Null values in the columns... \n"
     ]
    },
    {
     "name": "stderr",
     "output_type": "stream",
     "text": [
      "100%|██████████████████████████████████████████████████████████████████████████| 2/2 [00:00<00:00, 499.35it/s]\n"
     ]
    },
    {
     "name": "stdout",
     "output_type": "stream",
     "text": [
      "INFO:DataProfiler.profilers.profile_builder: Calculating the statistics...  (with 4 processes)\n"
     ]
    },
    {
     "name": "stderr",
     "output_type": "stream",
     "text": [
      "100%|███████████████████████████████████████████████████████████████████████████| 2/2 [00:00<00:00,  4.13it/s]\n"
     ]
    },
    {
     "name": "stdout",
     "output_type": "stream",
     "text": [
      "INFO:DataProfiler.profilers.profile_builder: Finding the Null values in the columns... \n"
     ]
    },
    {
     "name": "stderr",
     "output_type": "stream",
     "text": [
      "100%|██████████████████████████████████████████████████████████████████████████| 2/2 [00:00<00:00, 767.13it/s]\n"
     ]
    },
    {
     "name": "stdout",
     "output_type": "stream",
     "text": [
      "INFO:DataProfiler.profilers.profile_builder: Calculating the statistics...  (with 4 processes)\n"
     ]
    },
    {
     "name": "stderr",
     "output_type": "stream",
     "text": [
      "100%|███████████████████████████████████████████████████████████████████████████| 2/2 [00:00<00:00,  7.68it/s]\n"
     ]
    }
   ],
   "source": [
    "d = {'col1': [1, 2], 'col2': [3, 4]}\n",
    "df = pd.DataFrame(data=d)\n",
    "\n",
    "list_of_profiles = [dp.Profiler(df), dp.Profiler(df)]"
   ]
  },
  {
   "cell_type": "markdown",
   "id": "350502eb",
   "metadata": {},
   "source": [
    "Take a look at the list of profiles... "
   ]
  },
  {
   "cell_type": "code",
   "execution_count": 3,
   "id": "b649db32",
   "metadata": {},
   "outputs": [
    {
     "data": {
      "text/plain": [
       "[<dataprofiler.profilers.profile_builder.StructuredProfiler at 0x7ff2af027b10>,\n",
       " <dataprofiler.profilers.profile_builder.StructuredProfiler at 0x7ff2af1c9650>]"
      ]
     },
     "execution_count": 3,
     "metadata": {},
     "output_type": "execute_result"
    }
   ],
   "source": [
    "list_of_profiles"
   ]
  },
  {
   "cell_type": "markdown",
   "id": "4ed4fc12",
   "metadata": {},
   "source": [
    "## Run Merge on List of Profiles\n",
    "\n",
    "Now let's merge the list of profiles into a `single_profile`"
   ]
  },
  {
   "cell_type": "code",
   "execution_count": 4,
   "id": "4a636047",
   "metadata": {},
   "outputs": [
    {
     "name": "stderr",
     "output_type": "stream",
     "text": [
      "../dataprofiler/profilers/profile_builder.py:381: UserWarning: Overlapping indices detected. To resolve, indices where null data present will be shifted forward when stored in profile: col1\n",
      "  f\"Overlapping indices detected. To resolve, indices \"\n",
      "../dataprofiler/profilers/profile_builder.py:381: UserWarning: Overlapping indices detected. To resolve, indices where null data present will be shifted forward when stored in profile: col2\n",
      "  f\"Overlapping indices detected. To resolve, indices \"\n"
     ]
    }
   ],
   "source": [
    "single_profile = merge_profile_list(list_of_profiles=list_of_profiles)"
   ]
  },
  {
   "cell_type": "markdown",
   "id": "0aa88720",
   "metadata": {},
   "source": [
    "And check out the `.report` on the single profile:"
   ]
  },
  {
   "cell_type": "code",
   "execution_count": 5,
   "id": "34059c21",
   "metadata": {},
   "outputs": [
    {
     "data": {
      "text/plain": [
       "{'global_stats': {'samples_used': 4,\n",
       "  'column_count': 2,\n",
       "  'row_count': 4,\n",
       "  'row_has_null_ratio': 0.0,\n",
       "  'row_is_null_ratio': 0.0,\n",
       "  'unique_row_ratio': 0.5,\n",
       "  'duplicate_row_count': 2,\n",
       "  'file_type': \"<class 'pandas.core.frame.DataFrame'>\",\n",
       "  'encoding': None,\n",
       "  'correlation_matrix': None,\n",
       "  'chi2_matrix': array([[1.        , 0.04601171],\n",
       "         [0.04601171, 1.        ]]),\n",
       "  'profile_schema': defaultdict(list, {'col1': [0], 'col2': [1]}),\n",
       "  'times': {'row_stats': 0.004318714141845703}},\n",
       " 'data_stats': [{'column_name': 'col1',\n",
       "   'data_type': 'int',\n",
       "   'data_label': 'INTEGER',\n",
       "   'categorical': True,\n",
       "   'order': 'random',\n",
       "   'samples': ['2', '1'],\n",
       "   'statistics': {'min': 1.0,\n",
       "    'max': 2.0,\n",
       "    'mode': [1.0005, 1.9995],\n",
       "    'median': 1.5,\n",
       "    'sum': 6.0,\n",
       "    'mean': 1.5,\n",
       "    'variance': 0.3333333333333333,\n",
       "    'stddev': 0.5773502691896257,\n",
       "    'skewness': 0.0,\n",
       "    'kurtosis': -6.0,\n",
       "    'histogram': {'bin_edges': array([1.        , 1.33333333, 1.66666667, 2.        ]),\n",
       "     'bin_counts': array([2., 0., 2.])},\n",
       "    'quantiles': {0: 1.0005, 1: 1.5, 2: 1.9995},\n",
       "    'median_abs_deviation': 0.49950000000000006,\n",
       "    'num_zeros': 0,\n",
       "    'num_negatives': 0,\n",
       "    'times': {'min': 0.0015628337860107422,\n",
       "     'max': 0.0002486705780029297,\n",
       "     'sum': 0.0006148815155029297,\n",
       "     'variance': 0.0011911392211914062,\n",
       "     'skewness': 0.0022449493408203125,\n",
       "     'kurtosis': 0.0008940696716308594,\n",
       "     'histogram_and_quantiles': 0.011197328567504883,\n",
       "     'num_zeros': 0.0006852149963378906,\n",
       "     'num_negatives': 0.0004203319549560547,\n",
       "     'data_labeler_predict': 0.3286888599395752},\n",
       "    'unique_count': 2,\n",
       "    'unique_ratio': 0.5,\n",
       "    'categories': ['1', '2'],\n",
       "    'gini_impurity': 0.5,\n",
       "    'unalikeability': 0.6666666666666666,\n",
       "    'categorical_count': {'1': 2, '2': 2},\n",
       "    'avg_predictions': {'UNKNOWN': 0.0,\n",
       "     'ADDRESS': 0.0,\n",
       "     'BAN': 0.0,\n",
       "     'CREDIT_CARD': 0.0,\n",
       "     'DATE': 0.0,\n",
       "     'TIME': 0.0,\n",
       "     'DATETIME': 0.0,\n",
       "     'DRIVERS_LICENSE': 0.0,\n",
       "     'EMAIL_ADDRESS': 0.0,\n",
       "     'UUID': 0.0,\n",
       "     'HASH_OR_KEY': 0.0,\n",
       "     'IPV4': 0.0,\n",
       "     'IPV6': 0.0,\n",
       "     'MAC_ADDRESS': 0.0,\n",
       "     'PERSON': 0.0,\n",
       "     'PHONE_NUMBER': 0.0,\n",
       "     'SSN': 0.0,\n",
       "     'URL': 0.0,\n",
       "     'US_STATE': 0.0,\n",
       "     'INTEGER': 1.0,\n",
       "     'FLOAT': 0.0,\n",
       "     'QUANTITY': 0.0,\n",
       "     'ORDINAL': 0.0},\n",
       "    'data_label_representation': {'UNKNOWN': 0.0,\n",
       "     'ADDRESS': 0.0,\n",
       "     'BAN': 0.0,\n",
       "     'CREDIT_CARD': 0.0,\n",
       "     'DATE': 0.0,\n",
       "     'TIME': 0.0,\n",
       "     'DATETIME': 0.0,\n",
       "     'DRIVERS_LICENSE': 0.0,\n",
       "     'EMAIL_ADDRESS': 0.0,\n",
       "     'UUID': 0.0,\n",
       "     'HASH_OR_KEY': 0.0,\n",
       "     'IPV4': 0.0,\n",
       "     'IPV6': 0.0,\n",
       "     'MAC_ADDRESS': 0.0,\n",
       "     'PERSON': 0.0,\n",
       "     'PHONE_NUMBER': 0.0,\n",
       "     'SSN': 0.0,\n",
       "     'URL': 0.0,\n",
       "     'US_STATE': 0.0,\n",
       "     'INTEGER': 1.0,\n",
       "     'FLOAT': 0.0,\n",
       "     'QUANTITY': 0.0,\n",
       "     'ORDINAL': 0.0},\n",
       "    'sample_size': 4,\n",
       "    'null_count': 0,\n",
       "    'null_types': [],\n",
       "    'null_types_index': {},\n",
       "    'data_type_representation': {'datetime': 0.0,\n",
       "     'int': 1.0,\n",
       "     'float': 1.0,\n",
       "     'text': 1.0}}},\n",
       "  {'column_name': 'col2',\n",
       "   'data_type': 'int',\n",
       "   'data_label': 'ORDINAL|INTEGER',\n",
       "   'categorical': True,\n",
       "   'order': 'random',\n",
       "   'samples': ['4', '3'],\n",
       "   'statistics': {'min': 3.0,\n",
       "    'max': 4.0,\n",
       "    'mode': [3.0004999999999997, 3.9995000000000003],\n",
       "    'median': 3.5,\n",
       "    'sum': 14.0,\n",
       "    'mean': 3.5,\n",
       "    'variance': 0.3333333333333333,\n",
       "    'stddev': 0.5773502691896257,\n",
       "    'skewness': 0.0,\n",
       "    'kurtosis': -6.0,\n",
       "    'histogram': {'bin_edges': array([3.        , 3.33333333, 3.66666667, 4.        ]),\n",
       "     'bin_counts': array([2., 0., 2.])},\n",
       "    'quantiles': {0: 3.0004999999999997, 1: 3.5, 2: 3.9995},\n",
       "    'median_abs_deviation': 0.49950000000000006,\n",
       "    'num_zeros': 0,\n",
       "    'num_negatives': 0,\n",
       "    'times': {'min': 0.00045680999755859375,\n",
       "     'max': 0.00020766258239746094,\n",
       "     'sum': 0.0002739429473876953,\n",
       "     'variance': 0.0007026195526123047,\n",
       "     'skewness': 0.0015239715576171875,\n",
       "     'kurtosis': 0.0009279251098632812,\n",
       "     'histogram_and_quantiles': 0.007981061935424805,\n",
       "     'num_zeros': 0.0006072521209716797,\n",
       "     'num_negatives': 0.0006318092346191406,\n",
       "     'data_labeler_predict': 0.14895009994506836},\n",
       "    'unique_count': 2,\n",
       "    'unique_ratio': 0.5,\n",
       "    'categories': ['3', '4'],\n",
       "    'gini_impurity': 0.5,\n",
       "    'unalikeability': 0.6666666666666666,\n",
       "    'categorical_count': {'3': 2, '4': 2},\n",
       "    'avg_predictions': {'UNKNOWN': 0.0,\n",
       "     'ADDRESS': 0.0,\n",
       "     'BAN': 0.0,\n",
       "     'CREDIT_CARD': 0.0,\n",
       "     'DATE': 0.0,\n",
       "     'TIME': 0.0,\n",
       "     'DATETIME': 0.0,\n",
       "     'DRIVERS_LICENSE': 0.0,\n",
       "     'EMAIL_ADDRESS': 0.0,\n",
       "     'UUID': 0.0,\n",
       "     'HASH_OR_KEY': 0.0,\n",
       "     'IPV4': 0.0,\n",
       "     'IPV6': 0.0,\n",
       "     'MAC_ADDRESS': 0.0,\n",
       "     'PERSON': 0.0,\n",
       "     'PHONE_NUMBER': 0.0,\n",
       "     'SSN': 0.0,\n",
       "     'URL': 0.0,\n",
       "     'US_STATE': 0.0,\n",
       "     'INTEGER': 0.5,\n",
       "     'FLOAT': 0.0,\n",
       "     'QUANTITY': 0.0,\n",
       "     'ORDINAL': 0.5},\n",
       "    'data_label_representation': {'UNKNOWN': 0.0,\n",
       "     'ADDRESS': 0.0,\n",
       "     'BAN': 0.0,\n",
       "     'CREDIT_CARD': 0.0,\n",
       "     'DATE': 0.0,\n",
       "     'TIME': 0.0,\n",
       "     'DATETIME': 0.0,\n",
       "     'DRIVERS_LICENSE': 0.0,\n",
       "     'EMAIL_ADDRESS': 0.0,\n",
       "     'UUID': 0.0,\n",
       "     'HASH_OR_KEY': 0.0,\n",
       "     'IPV4': 0.0,\n",
       "     'IPV6': 0.0,\n",
       "     'MAC_ADDRESS': 0.0,\n",
       "     'PERSON': 0.0,\n",
       "     'PHONE_NUMBER': 0.0,\n",
       "     'SSN': 0.0,\n",
       "     'URL': 0.0,\n",
       "     'US_STATE': 0.0,\n",
       "     'INTEGER': 0.5,\n",
       "     'FLOAT': 0.0,\n",
       "     'QUANTITY': 0.0,\n",
       "     'ORDINAL': 0.5},\n",
       "    'sample_size': 4,\n",
       "    'null_count': 0,\n",
       "    'null_types': [],\n",
       "    'null_types_index': {},\n",
       "    'data_type_representation': {'datetime': 0.0,\n",
       "     'int': 1.0,\n",
       "     'float': 1.0,\n",
       "     'text': 1.0}}}]}"
      ]
     },
     "execution_count": 5,
     "metadata": {},
     "output_type": "execute_result"
    }
   ],
   "source": [
    "single_profile.report()"
   ]
  }
 ],
 "metadata": {
  "kernelspec": {
   "display_name": "dataprofiler",
   "language": "python",
   "name": "dataprofiler"
  },
  "language_info": {
   "codemirror_mode": {
    "name": "ipython",
    "version": 3
   },
   "file_extension": ".py",
   "mimetype": "text/x-python",
   "name": "python",
   "nbconvert_exporter": "python",
   "pygments_lexer": "ipython3",
   "version": "3.7.12"
  }
 },
 "nbformat": 4,
 "nbformat_minor": 5
}
