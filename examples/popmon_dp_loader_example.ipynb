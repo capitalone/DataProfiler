{
 "cells": [
  {
   "cell_type": "code",
   "execution_count": 1,
   "id": "5067918b",
   "metadata": {},
   "outputs": [],
   "source": [
    "# Dataprofiler's dataloader with Popmons report system Demo"
   ]
  },
  {
   "cell_type": "code",
   "execution_count": 2,
   "id": "07481259",
   "metadata": {},
   "outputs": [],
   "source": [
    "# imports\n",
    "import os\n",
    "import dataprofiler as dp\n",
    "import pandas as pd\n",
    "import argparse\n",
    "import popmon  # noqa"
   ]
  },
  {
   "cell_type": "code",
   "execution_count": 3,
   "id": "a9e25791",
   "metadata": {},
   "outputs": [],
   "source": [
    "# This is used to mimic the loading of the popmon default dataset \n",
    "# Headers are handled in a slightly different way with the flight \n",
    "# delay dataset from popmon example\n",
    "def convert_headers(dataframe):\n",
    "    new_header = dataframe.iloc[0] #grab the first row for the header\n",
    "    dataframe = dataframe[1:] #take the data less the header row\n",
    "    dataframe.columns = new_header #set the header row as the df header\n",
    "    return dataframe"
   ]
  },
  {
   "cell_type": "code",
   "execution_count": 4,
   "id": "96126e98",
   "metadata": {},
   "outputs": [],
   "source": [
    "# Popmon dataloader example (deafult csv)\n",
    "def pm_dataloader(path, time_index):\n",
    "    # Load pm dataframe (Can only read csvs unless reader option is changed)\n",
    "    if not time_index is None:\n",
    "        pm_data = pd.read_csv(path, parse_dates=[time_index])\n",
    "    else:\n",
    "        time_index = True\n",
    "        pm_data = pd.read_csv(path)\n",
    "    return pm_data"
   ]
  },
  {
   "cell_type": "code",
   "execution_count": 5,
   "id": "d4ea0808",
   "metadata": {},
   "outputs": [],
   "source": [
    "# Dataprofiler dataloader example\n",
    "def dp_dataloader(path, time_index):\n",
    "    # Datalaoder from dataprofiler used\n",
    "    dp_data = dp.Data(path) \n",
    "\n",
    "    # Used to mimic the default columns read in by readcsv function\n",
    "#     tmp_headers = [header for header in range(len(dp_data.data.columns))]\n",
    "    dataframe = dp_data.data\n",
    "#     if dataframe.columns.values.tolist() == tmp_headers:\n",
    "#         dataframe = convert_headers(dataframe)\n",
    "\n",
    "    # Make dataframe from dataprofiler popmon compliant\n",
    "    if not time_index is True:\n",
    "        # Mimics parse_dates=[time_index] optional param\n",
    "        dp_data.data[time_index] = pd.to_datetime(dp_data.data[time_index])\n",
    "\n",
    "    return dp_data.data, time_index"
   ]
  },
  {
   "cell_type": "code",
   "execution_count": 6,
   "id": "80eb601d",
   "metadata": {},
   "outputs": [],
   "source": [
    "# Default csv from popmon example\n",
    "path = \"../dataprofiler/tests/data/csv/flight_delays.csv\"\n",
    "time_index = \"DATE\"\n",
    "report_output_dir = \"./popmon_output/flight_delays\"\n"
   ]
  },
  {
   "cell_type": "code",
   "execution_count": 7,
   "id": "0c127288",
   "metadata": {},
   "outputs": [],
   "source": [
    "# Random csv from dataprofiler tests\n",
    "path = \"../dataprofiler/tests/data/csv/aws_honeypot_marx_geo.csv\"\n",
    "time_index = \"datetime\"\n",
    "report_output_dir = \"./popmon_output/aws_honeypot_marx_geo\""
   ]
  },
  {
   "cell_type": "code",
   "execution_count": 8,
   "id": "6cd5c385",
   "metadata": {},
   "outputs": [],
   "source": [
    "# Random json file from dataprofiler tests\n",
    "path = \"../dataprofiler/tests/data/json/math.json\"\n",
    "\n",
    "time_index = \"data.9\"\n",
    "report_output_dir = \"./popmon_output/math\""
   ]
  },
  {
   "cell_type": "code",
   "execution_count": 9,
   "id": "2d162c63",
   "metadata": {},
   "outputs": [],
   "source": [
    "# Random avro file from dataprofiler tests\n",
    "path = \"../dataprofiler/tests/data/avro/popmon_data_example_with_datetime.avro\"\n",
    "\n",
    "time_index = \"DATETIME0\"\n",
    "report_output_dir = \"./popmon_output/popmon_data_example_with_datetime_avro\""
   ]
  },
  {
   "cell_type": "code",
   "execution_count": 10,
   "id": "871307be",
   "metadata": {},
   "outputs": [],
   "source": [
    "# Random parquet file from dataprofiler tests\n",
    "path = \"../dataprofiler/tests/data/parquet/popmon_data_example_with_datetime.parquet\"\n",
    "\n",
    "time_index = \"DATETIME0\"\n",
    "report_output_dir = \"./popmon_output/popmon_data_example_with_datetime_parquet\""
   ]
  },
  {
   "cell_type": "code",
   "execution_count": 11,
   "id": "e5426375",
   "metadata": {},
   "outputs": [],
   "source": [
    "if not os.path.exists(report_output_dir):\n",
    "    os.makedirs(report_output_dir)"
   ]
  },
  {
   "cell_type": "code",
   "execution_count": 12,
   "id": "0cb0ac80",
   "metadata": {},
   "outputs": [
    {
     "name": "stdout",
     "output_type": "stream",
     "text": [
      "'utf-8' codec can't decode byte 0xc6 in position 7: invalid continuation byte\n"
     ]
    }
   ],
   "source": [
    "try:\n",
    "    pm_data = pm_dataloader(path, time_index)\n",
    "except Exception as e:\n",
    "    pm_data = None\n",
    "    print(e)"
   ]
  },
  {
   "cell_type": "code",
   "execution_count": 13,
   "id": "79a928b7",
   "metadata": {},
   "outputs": [
    {
     "name": "stderr",
     "output_type": "stream",
     "text": [
      "2022-01-03 11:37:15,426 INFO [api]: cp037 was excluded because of initial chaos probing. Gave up 2 time(s). Computed mean chaos is 416.400000 %.\n",
      "2022-01-03 11:37:15,428 INFO [api]: cp1026 is deemed too similar to code page cp037 and was consider unsuited already. Continuing!\n",
      "2022-01-03 11:37:15,430 INFO [api]: cp1125 was excluded because of initial chaos probing. Gave up 2 time(s). Computed mean chaos is 133.000000 %.\n",
      "2022-01-03 11:37:15,432 INFO [api]: cp1140 is deemed too similar to code page cp037 and was consider unsuited already. Continuing!\n",
      "2022-01-03 11:37:15,440 INFO [api]: cp1256 was excluded because of initial chaos probing. Gave up 2 time(s). Computed mean chaos is 129.050000 %.\n",
      "2022-01-03 11:37:15,443 INFO [api]: cp273 is deemed too similar to code page cp037 and was consider unsuited already. Continuing!\n",
      "2022-01-03 11:37:15,447 INFO [api]: cp437 was excluded because of initial chaos probing. Gave up 2 time(s). Computed mean chaos is 126.450000 %.\n",
      "2022-01-03 11:37:15,448 INFO [api]: cp500 is deemed too similar to code page cp037 and was consider unsuited already. Continuing!\n",
      "2022-01-03 11:37:15,451 INFO [api]: cp775 was excluded because of initial chaos probing. Gave up 2 time(s). Computed mean chaos is 122.300000 %.\n",
      "2022-01-03 11:37:15,453 INFO [api]: cp850 is deemed too similar to code page cp437 and was consider unsuited already. Continuing!\n",
      "2022-01-03 11:37:15,456 INFO [api]: cp852 was excluded because of initial chaos probing. Gave up 2 time(s). Computed mean chaos is 140.550000 %.\n",
      "2022-01-03 11:37:15,458 INFO [api]: cp855 was excluded because of initial chaos probing. Gave up 2 time(s). Computed mean chaos is 137.450000 %.\n",
      "2022-01-03 11:37:15,461 INFO [api]: cp858 is deemed too similar to code page cp437 and was consider unsuited already. Continuing!\n",
      "2022-01-03 11:37:15,464 INFO [api]: cp860 is deemed too similar to code page cp437 and was consider unsuited already. Continuing!\n",
      "2022-01-03 11:37:15,466 INFO [api]: cp861 is deemed too similar to code page cp437 and was consider unsuited already. Continuing!\n",
      "2022-01-03 11:37:15,468 INFO [api]: cp862 is deemed too similar to code page cp437 and was consider unsuited already. Continuing!\n",
      "2022-01-03 11:37:15,470 INFO [api]: cp863 is deemed too similar to code page cp437 and was consider unsuited already. Continuing!\n",
      "2022-01-03 11:37:15,473 INFO [api]: cp865 is deemed too similar to code page cp437 and was consider unsuited already. Continuing!\n",
      "2022-01-03 11:37:15,474 INFO [api]: cp866 is deemed too similar to code page cp1125 and was consider unsuited already. Continuing!\n",
      "2022-01-03 11:37:15,497 INFO [api]: iso8859_10 was excluded because of initial chaos probing. Gave up 2 time(s). Computed mean chaos is 110.750000 %.\n",
      "2022-01-03 11:37:15,501 INFO [api]: iso8859_13 was excluded because of initial chaos probing. Gave up 2 time(s). Computed mean chaos is 110.750000 %.\n",
      "2022-01-03 11:37:15,503 INFO [api]: iso8859_14 is deemed too similar to code page iso8859_10 and was consider unsuited already. Continuing!\n",
      "2022-01-03 11:37:15,504 INFO [api]: iso8859_15 is deemed too similar to code page iso8859_10 and was consider unsuited already. Continuing!\n",
      "2022-01-03 11:37:15,507 INFO [api]: iso8859_16 was excluded because of initial chaos probing. Gave up 2 time(s). Computed mean chaos is 110.750000 %.\n",
      "2022-01-03 11:37:15,508 INFO [api]: iso8859_2 is deemed too similar to code page iso8859_16 and was consider unsuited already. Continuing!\n",
      "2022-01-03 11:37:15,510 INFO [api]: iso8859_4 is deemed too similar to code page iso8859_10 and was consider unsuited already. Continuing!\n",
      "2022-01-03 11:37:15,513 INFO [api]: iso8859_5 was excluded because of initial chaos probing. Gave up 2 time(s). Computed mean chaos is 131.050000 %.\n",
      "2022-01-03 11:37:15,516 INFO [api]: iso8859_9 is deemed too similar to code page iso8859_10 and was consider unsuited already. Continuing!\n",
      "2022-01-03 11:37:15,520 INFO [api]: koi8_r was excluded because of initial chaos probing. Gave up 2 time(s). Computed mean chaos is 129.050000 %.\n",
      "2022-01-03 11:37:15,521 INFO [api]: latin_1 is deemed too similar to code page iso8859_10 and was consider unsuited already. Continuing!\n",
      "2022-01-03 11:37:15,524 INFO [api]: mac_cyrillic was excluded because of initial chaos probing. Gave up 2 time(s). Computed mean chaos is 125.150000 %.\n",
      "2022-01-03 11:37:15,527 INFO [api]: mac_greek was excluded because of initial chaos probing. Gave up 2 time(s). Computed mean chaos is 127.100000 %.\n",
      "2022-01-03 11:37:15,530 INFO [api]: mac_iceland was excluded because of initial chaos probing. Gave up 2 time(s). Computed mean chaos is 122.900000 %.\n",
      "2022-01-03 11:37:15,534 INFO [api]: mac_latin2 was excluded because of initial chaos probing. Gave up 2 time(s). Computed mean chaos is 118.600000 %.\n",
      "2022-01-03 11:37:15,535 INFO [api]: mac_roman is deemed too similar to code page mac_iceland and was consider unsuited already. Continuing!\n",
      "2022-01-03 11:37:15,537 INFO [api]: mac_turkish is deemed too similar to code page mac_iceland and was consider unsuited already. Continuing!\n",
      "2022-01-03 11:37:15,540 INFO [api]: ptcp154 was excluded because of initial chaos probing. Gave up 2 time(s). Computed mean chaos is 129.050000 %.\n",
      "2022-01-03 11:37:15,551 INFO [api]: cp037 was excluded because of initial chaos probing. Gave up 1 time(s). Computed mean chaos is 513.000000 %.\n",
      "2022-01-03 11:37:15,553 INFO [api]: cp1026 is deemed too similar to code page cp037 and was consider unsuited already. Continuing!\n",
      "2022-01-03 11:37:15,555 INFO [api]: cp1125 was excluded because of initial chaos probing. Gave up 1 time(s). Computed mean chaos is 189.900000 %.\n",
      "2022-01-03 11:37:15,556 INFO [api]: cp1140 is deemed too similar to code page cp037 and was consider unsuited already. Continuing!\n",
      "2022-01-03 11:37:15,557 INFO [api]: cp1256 was excluded because of initial chaos probing. Gave up 1 time(s). Computed mean chaos is 166.600000 %.\n",
      "2022-01-03 11:37:15,558 INFO [api]: cp273 is deemed too similar to code page cp037 and was consider unsuited already. Continuing!\n",
      "2022-01-03 11:37:15,559 INFO [api]: cp437 was excluded because of initial chaos probing. Gave up 1 time(s). Computed mean chaos is 182.900000 %.\n",
      "2022-01-03 11:37:15,560 INFO [api]: cp500 is deemed too similar to code page cp037 and was consider unsuited already. Continuing!\n",
      "2022-01-03 11:37:15,561 INFO [api]: cp775 was excluded because of initial chaos probing. Gave up 1 time(s). Computed mean chaos is 166.200000 %.\n",
      "2022-01-03 11:37:15,562 INFO [api]: cp850 is deemed too similar to code page cp437 and was consider unsuited already. Continuing!\n",
      "2022-01-03 11:37:15,563 INFO [api]: cp852 was excluded because of initial chaos probing. Gave up 1 time(s). Computed mean chaos is 175.900000 %.\n",
      "2022-01-03 11:37:15,565 INFO [api]: cp855 was excluded because of initial chaos probing. Gave up 1 time(s). Computed mean chaos is 187.200000 %.\n",
      "2022-01-03 11:37:15,566 INFO [api]: cp858 is deemed too similar to code page cp437 and was consider unsuited already. Continuing!\n",
      "2022-01-03 11:37:15,566 INFO [api]: cp860 is deemed too similar to code page cp437 and was consider unsuited already. Continuing!\n",
      "2022-01-03 11:37:15,567 INFO [api]: cp861 is deemed too similar to code page cp437 and was consider unsuited already. Continuing!\n",
      "2022-01-03 11:37:15,567 INFO [api]: cp862 is deemed too similar to code page cp437 and was consider unsuited already. Continuing!\n",
      "2022-01-03 11:37:15,568 INFO [api]: cp863 is deemed too similar to code page cp437 and was consider unsuited already. Continuing!\n",
      "2022-01-03 11:37:15,569 INFO [api]: cp865 is deemed too similar to code page cp437 and was consider unsuited already. Continuing!\n",
      "2022-01-03 11:37:15,569 INFO [api]: cp866 is deemed too similar to code page cp1125 and was consider unsuited already. Continuing!\n",
      "2022-01-03 11:37:15,571 INFO [api]: iso8859_10 was excluded because of initial chaos probing. Gave up 1 time(s). Computed mean chaos is 155.000000 %.\n",
      "2022-01-03 11:37:15,573 INFO [api]: iso8859_13 was excluded because of initial chaos probing. Gave up 1 time(s). Computed mean chaos is 162.400000 %.\n",
      "2022-01-03 11:37:15,574 INFO [api]: iso8859_14 is deemed too similar to code page iso8859_10 and was consider unsuited already. Continuing!\n"
     ]
    },
    {
     "name": "stderr",
     "output_type": "stream",
     "text": [
      "2022-01-03 11:37:15,574 INFO [api]: iso8859_15 is deemed too similar to code page iso8859_10 and was consider unsuited already. Continuing!\n",
      "2022-01-03 11:37:15,576 INFO [api]: iso8859_16 was excluded because of initial chaos probing. Gave up 1 time(s). Computed mean chaos is 155.000000 %.\n",
      "2022-01-03 11:37:15,576 INFO [api]: iso8859_2 is deemed too similar to code page iso8859_16 and was consider unsuited already. Continuing!\n",
      "2022-01-03 11:37:15,577 INFO [api]: iso8859_4 is deemed too similar to code page iso8859_10 and was consider unsuited already. Continuing!\n",
      "2022-01-03 11:37:15,578 INFO [api]: iso8859_5 was excluded because of initial chaos probing. Gave up 1 time(s). Computed mean chaos is 168.500000 %.\n",
      "2022-01-03 11:37:15,579 INFO [api]: iso8859_9 is deemed too similar to code page iso8859_10 and was consider unsuited already. Continuing!\n",
      "2022-01-03 11:37:15,580 INFO [api]: koi8_r was excluded because of initial chaos probing. Gave up 1 time(s). Computed mean chaos is 166.600000 %.\n",
      "2022-01-03 11:37:15,581 INFO [api]: latin_1 is deemed too similar to code page iso8859_10 and was consider unsuited already. Continuing!\n",
      "2022-01-03 11:37:15,583 INFO [api]: mac_cyrillic was excluded because of initial chaos probing. Gave up 1 time(s). Computed mean chaos is 165.000000 %.\n",
      "2022-01-03 11:37:15,584 INFO [api]: mac_greek was excluded because of initial chaos probing. Gave up 1 time(s). Computed mean chaos is 155.000000 %.\n",
      "2022-01-03 11:37:15,586 INFO [api]: mac_iceland was excluded because of initial chaos probing. Gave up 1 time(s). Computed mean chaos is 171.500000 %.\n",
      "2022-01-03 11:37:15,587 INFO [api]: mac_latin2 was excluded because of initial chaos probing. Gave up 1 time(s). Computed mean chaos is 172.500000 %.\n",
      "2022-01-03 11:37:15,588 INFO [api]: mac_roman is deemed too similar to code page mac_iceland and was consider unsuited already. Continuing!\n",
      "2022-01-03 11:37:15,588 INFO [api]: mac_turkish is deemed too similar to code page mac_iceland and was consider unsuited already. Continuing!\n",
      "2022-01-03 11:37:15,590 INFO [api]: ptcp154 was excluded because of initial chaos probing. Gave up 1 time(s). Computed mean chaos is 166.600000 %.\n",
      "2022-01-03 11:37:15,671 INFO [api]: cp037 was excluded because of initial chaos probing. Gave up 2 time(s). Computed mean chaos is 416.400000 %.\n",
      "2022-01-03 11:37:15,672 INFO [api]: cp1026 is deemed too similar to code page cp037 and was consider unsuited already. Continuing!\n",
      "2022-01-03 11:37:15,673 INFO [api]: cp1125 was excluded because of initial chaos probing. Gave up 2 time(s). Computed mean chaos is 133.000000 %.\n",
      "2022-01-03 11:37:15,673 INFO [api]: cp1140 is deemed too similar to code page cp037 and was consider unsuited already. Continuing!\n",
      "2022-01-03 11:37:15,674 INFO [api]: cp1256 was excluded because of initial chaos probing. Gave up 2 time(s). Computed mean chaos is 129.050000 %.\n",
      "2022-01-03 11:37:15,674 INFO [api]: cp273 is deemed too similar to code page cp037 and was consider unsuited already. Continuing!\n",
      "2022-01-03 11:37:15,675 INFO [api]: cp437 was excluded because of initial chaos probing. Gave up 2 time(s). Computed mean chaos is 126.450000 %.\n",
      "2022-01-03 11:37:15,675 INFO [api]: cp500 is deemed too similar to code page cp037 and was consider unsuited already. Continuing!\n",
      "2022-01-03 11:37:15,676 INFO [api]: cp775 was excluded because of initial chaos probing. Gave up 2 time(s). Computed mean chaos is 122.300000 %.\n",
      "2022-01-03 11:37:15,676 INFO [api]: cp850 is deemed too similar to code page cp437 and was consider unsuited already. Continuing!\n",
      "2022-01-03 11:37:15,676 INFO [api]: cp852 was excluded because of initial chaos probing. Gave up 2 time(s). Computed mean chaos is 140.550000 %.\n",
      "2022-01-03 11:37:15,677 INFO [api]: cp855 was excluded because of initial chaos probing. Gave up 2 time(s). Computed mean chaos is 137.450000 %.\n",
      "2022-01-03 11:37:15,677 INFO [api]: cp858 is deemed too similar to code page cp437 and was consider unsuited already. Continuing!\n",
      "2022-01-03 11:37:15,678 INFO [api]: cp860 is deemed too similar to code page cp437 and was consider unsuited already. Continuing!\n",
      "2022-01-03 11:37:15,679 INFO [api]: cp861 is deemed too similar to code page cp437 and was consider unsuited already. Continuing!\n",
      "2022-01-03 11:37:15,679 INFO [api]: cp862 is deemed too similar to code page cp437 and was consider unsuited already. Continuing!\n",
      "2022-01-03 11:37:15,680 INFO [api]: cp863 is deemed too similar to code page cp437 and was consider unsuited already. Continuing!\n",
      "2022-01-03 11:37:15,680 INFO [api]: cp865 is deemed too similar to code page cp437 and was consider unsuited already. Continuing!\n",
      "2022-01-03 11:37:15,681 INFO [api]: cp866 is deemed too similar to code page cp1125 and was consider unsuited already. Continuing!\n",
      "2022-01-03 11:37:15,681 INFO [api]: iso8859_10 was excluded because of initial chaos probing. Gave up 2 time(s). Computed mean chaos is 110.750000 %.\n",
      "2022-01-03 11:37:15,682 INFO [api]: iso8859_13 was excluded because of initial chaos probing. Gave up 2 time(s). Computed mean chaos is 110.750000 %.\n",
      "2022-01-03 11:37:15,683 INFO [api]: iso8859_14 is deemed too similar to code page iso8859_10 and was consider unsuited already. Continuing!\n",
      "2022-01-03 11:37:15,683 INFO [api]: iso8859_15 is deemed too similar to code page iso8859_10 and was consider unsuited already. Continuing!\n",
      "2022-01-03 11:37:15,684 INFO [api]: iso8859_16 was excluded because of initial chaos probing. Gave up 2 time(s). Computed mean chaos is 110.750000 %.\n",
      "2022-01-03 11:37:15,685 INFO [api]: iso8859_2 is deemed too similar to code page iso8859_16 and was consider unsuited already. Continuing!\n",
      "2022-01-03 11:37:15,685 INFO [api]: iso8859_4 is deemed too similar to code page iso8859_10 and was consider unsuited already. Continuing!\n",
      "2022-01-03 11:37:15,686 INFO [api]: iso8859_5 was excluded because of initial chaos probing. Gave up 2 time(s). Computed mean chaos is 131.050000 %.\n",
      "2022-01-03 11:37:15,686 INFO [api]: iso8859_9 is deemed too similar to code page iso8859_10 and was consider unsuited already. Continuing!\n",
      "2022-01-03 11:37:15,687 INFO [api]: koi8_r was excluded because of initial chaos probing. Gave up 2 time(s). Computed mean chaos is 129.050000 %.\n",
      "2022-01-03 11:37:15,687 INFO [api]: latin_1 is deemed too similar to code page iso8859_10 and was consider unsuited already. Continuing!\n",
      "2022-01-03 11:37:15,688 INFO [api]: mac_cyrillic was excluded because of initial chaos probing. Gave up 2 time(s). Computed mean chaos is 125.150000 %.\n",
      "2022-01-03 11:37:15,688 INFO [api]: mac_greek was excluded because of initial chaos probing. Gave up 2 time(s). Computed mean chaos is 127.100000 %.\n",
      "2022-01-03 11:37:15,689 INFO [api]: mac_iceland was excluded because of initial chaos probing. Gave up 2 time(s). Computed mean chaos is 122.900000 %.\n",
      "2022-01-03 11:37:15,689 INFO [api]: mac_latin2 was excluded because of initial chaos probing. Gave up 2 time(s). Computed mean chaos is 118.600000 %.\n",
      "2022-01-03 11:37:15,690 INFO [api]: mac_roman is deemed too similar to code page mac_iceland and was consider unsuited already. Continuing!\n",
      "2022-01-03 11:37:15,690 INFO [api]: mac_turkish is deemed too similar to code page mac_iceland and was consider unsuited already. Continuing!\n",
      "2022-01-03 11:37:15,690 INFO [api]: ptcp154 was excluded because of initial chaos probing. Gave up 2 time(s). Computed mean chaos is 129.050000 %.\n",
      "2022-01-03 11:37:15,692 INFO [api]: cp037 was excluded because of initial chaos probing. Gave up 1 time(s). Computed mean chaos is 513.000000 %.\n",
      "2022-01-03 11:37:15,692 INFO [api]: cp1026 is deemed too similar to code page cp037 and was consider unsuited already. Continuing!\n",
      "2022-01-03 11:37:15,693 INFO [api]: cp1125 was excluded because of initial chaos probing. Gave up 1 time(s). Computed mean chaos is 189.900000 %.\n",
      "2022-01-03 11:37:15,693 INFO [api]: cp1140 is deemed too similar to code page cp037 and was consider unsuited already. Continuing!\n",
      "2022-01-03 11:37:15,694 INFO [api]: cp1256 was excluded because of initial chaos probing. Gave up 1 time(s). Computed mean chaos is 166.600000 %.\n",
      "2022-01-03 11:37:15,694 INFO [api]: cp273 is deemed too similar to code page cp037 and was consider unsuited already. Continuing!\n",
      "2022-01-03 11:37:15,695 INFO [api]: cp437 was excluded because of initial chaos probing. Gave up 1 time(s). Computed mean chaos is 182.900000 %.\n"
     ]
    },
    {
     "name": "stderr",
     "output_type": "stream",
     "text": [
      "2022-01-03 11:37:15,696 INFO [api]: cp500 is deemed too similar to code page cp037 and was consider unsuited already. Continuing!\n",
      "2022-01-03 11:37:15,696 INFO [api]: cp775 was excluded because of initial chaos probing. Gave up 1 time(s). Computed mean chaos is 166.200000 %.\n",
      "2022-01-03 11:37:15,697 INFO [api]: cp850 is deemed too similar to code page cp437 and was consider unsuited already. Continuing!\n",
      "2022-01-03 11:37:15,697 INFO [api]: cp852 was excluded because of initial chaos probing. Gave up 1 time(s). Computed mean chaos is 175.900000 %.\n",
      "2022-01-03 11:37:15,698 INFO [api]: cp855 was excluded because of initial chaos probing. Gave up 1 time(s). Computed mean chaos is 187.200000 %.\n",
      "2022-01-03 11:37:15,698 INFO [api]: cp858 is deemed too similar to code page cp437 and was consider unsuited already. Continuing!\n",
      "2022-01-03 11:37:15,699 INFO [api]: cp860 is deemed too similar to code page cp437 and was consider unsuited already. Continuing!\n",
      "2022-01-03 11:37:15,699 INFO [api]: cp861 is deemed too similar to code page cp437 and was consider unsuited already. Continuing!\n",
      "2022-01-03 11:37:15,700 INFO [api]: cp862 is deemed too similar to code page cp437 and was consider unsuited already. Continuing!\n",
      "2022-01-03 11:37:15,700 INFO [api]: cp863 is deemed too similar to code page cp437 and was consider unsuited already. Continuing!\n",
      "2022-01-03 11:37:15,701 INFO [api]: cp865 is deemed too similar to code page cp437 and was consider unsuited already. Continuing!\n",
      "2022-01-03 11:37:15,701 INFO [api]: cp866 is deemed too similar to code page cp1125 and was consider unsuited already. Continuing!\n",
      "2022-01-03 11:37:15,702 INFO [api]: iso8859_10 was excluded because of initial chaos probing. Gave up 1 time(s). Computed mean chaos is 155.000000 %.\n",
      "2022-01-03 11:37:15,703 INFO [api]: iso8859_13 was excluded because of initial chaos probing. Gave up 1 time(s). Computed mean chaos is 162.400000 %.\n",
      "2022-01-03 11:37:15,703 INFO [api]: iso8859_14 is deemed too similar to code page iso8859_10 and was consider unsuited already. Continuing!\n",
      "2022-01-03 11:37:15,704 INFO [api]: iso8859_15 is deemed too similar to code page iso8859_10 and was consider unsuited already. Continuing!\n",
      "2022-01-03 11:37:15,705 INFO [api]: iso8859_16 was excluded because of initial chaos probing. Gave up 1 time(s). Computed mean chaos is 155.000000 %.\n",
      "2022-01-03 11:37:15,705 INFO [api]: iso8859_2 is deemed too similar to code page iso8859_16 and was consider unsuited already. Continuing!\n",
      "2022-01-03 11:37:15,706 INFO [api]: iso8859_4 is deemed too similar to code page iso8859_10 and was consider unsuited already. Continuing!\n",
      "2022-01-03 11:37:15,707 INFO [api]: iso8859_5 was excluded because of initial chaos probing. Gave up 1 time(s). Computed mean chaos is 168.500000 %.\n",
      "2022-01-03 11:37:15,707 INFO [api]: iso8859_9 is deemed too similar to code page iso8859_10 and was consider unsuited already. Continuing!\n",
      "2022-01-03 11:37:15,708 INFO [api]: koi8_r was excluded because of initial chaos probing. Gave up 1 time(s). Computed mean chaos is 166.600000 %.\n",
      "2022-01-03 11:37:15,708 INFO [api]: latin_1 is deemed too similar to code page iso8859_10 and was consider unsuited already. Continuing!\n",
      "2022-01-03 11:37:15,708 INFO [api]: mac_cyrillic was excluded because of initial chaos probing. Gave up 1 time(s). Computed mean chaos is 165.000000 %.\n",
      "2022-01-03 11:37:15,709 INFO [api]: mac_greek was excluded because of initial chaos probing. Gave up 1 time(s). Computed mean chaos is 155.000000 %.\n",
      "2022-01-03 11:37:15,710 INFO [api]: mac_iceland was excluded because of initial chaos probing. Gave up 1 time(s). Computed mean chaos is 171.500000 %.\n",
      "2022-01-03 11:37:15,710 INFO [api]: mac_latin2 was excluded because of initial chaos probing. Gave up 1 time(s). Computed mean chaos is 172.500000 %.\n",
      "2022-01-03 11:37:15,711 INFO [api]: mac_roman is deemed too similar to code page mac_iceland and was consider unsuited already. Continuing!\n",
      "2022-01-03 11:37:15,711 INFO [api]: mac_turkish is deemed too similar to code page mac_iceland and was consider unsuited already. Continuing!\n",
      "2022-01-03 11:37:15,712 INFO [api]: ptcp154 was excluded because of initial chaos probing. Gave up 1 time(s). Computed mean chaos is 166.600000 %.\n"
     ]
    }
   ],
   "source": [
    "dp_dataframe, dp_time_index = dp_dataloader(path, time_index)"
   ]
  },
  {
   "cell_type": "code",
   "execution_count": 14,
   "id": "c32e6aba",
   "metadata": {},
   "outputs": [],
   "source": [
    "if pm_data is not None:\n",
    "    report_pm_loader = pm_data.pm_stability_report(\n",
    "                time_axis=time_index,\n",
    "                time_width=\"1w\",\n",
    "                time_offset=\"2015-07-02\",\n",
    "                extended_report=False,\n",
    "                pull_rules={\"*_pull\": [10, 7, -7, -10]},\n",
    "            )\n",
    "    # Save pm reports\n",
    "    report_pm_loader.to_file(os.path.join(report_output_dir, \"popmon_loader_report.html\"))\n",
    "    print(\"Popmon dataloader report generated at:\")\n",
    "    print(os.path.join(report_output_dir, \"popmon_loader_report.html\"))\n",
    "else:\n",
    "    print(\"Error: Popmon not able to generated report because of invalid data type!\")"
   ]
  },
  {
   "cell_type": "code",
   "execution_count": 15,
   "id": "d04cef99",
   "metadata": {},
   "outputs": [
    {
     "name": "stderr",
     "output_type": "stream",
     "text": [
      "/Users/ksneab/c1_projects/CapitalOneRepos/popmon_with_dp/venv/lib/python3.7/site-packages/histogrammar/dfinterface/make_histograms.py:172: UserWarning: time-axis \"DATETIME0\" already found in binning specifications. not overwriting.\n",
      "  f'time-axis \"{time_axis}\" already found in binning specifications. not overwriting.'\n",
      "2022-01-03 11:37:15,761 INFO [histogram_filler_base]: Filling 12 specified histograms. auto-binning.\n",
      "100%|███████████████████████████████████████████████████████████████| 12/12 [00:04<00:00,  2.46it/s]\n",
      "2022-01-03 11:37:20,637 INFO [hist_splitter]: Splitting histograms \"hists\" as \"split_hists\"\n",
      "2022-01-03 11:37:21,152 INFO [hist_comparer]: Comparing \"split_hists\" with rolling sum of 1 previous histogram(s).\n",
      "2022-01-03 11:37:34,186 INFO [hist_comparer]: Comparing \"split_hists\" with reference \"split_hists\"\n",
      "2022-01-03 11:37:46,532 INFO [pull_calculator]: Comparing \"comparisons\" with median/mad of reference \"comparisons\"\n",
      "2022-01-03 11:37:49,174 INFO [hist_profiler]: Profiling histograms \"split_hists\" as \"profiles\"\n",
      "2022-01-03 11:37:49,557 INFO [pull_calculator]: Comparing \"profiles\" with median/mad of reference \"profiles\"\n",
      "2022-01-03 11:37:59,709 INFO [apply_func]: Computing significance of (rolling) trend in means of features\n",
      "2022-01-03 11:38:01,362 INFO [compute_tl_bounds]: Calculating static bounds for \"profiles\"\n",
      "2022-01-03 11:38:03,353 INFO [compute_tl_bounds]: Calculating static bounds for \"comparisons\"\n",
      "2022-01-03 11:38:03,770 INFO [compute_tl_bounds]: Calculating traffic light alerts for \"profiles\"\n",
      "2022-01-03 11:38:05,627 INFO [compute_tl_bounds]: Calculating traffic light alerts for \"comparisons\"\n",
      "2022-01-03 11:38:06,185 INFO [apply_func]: Generating traffic light alerts summary.\n",
      "2022-01-03 11:38:06,387 INFO [alerts_summary]: Combining alerts into artificial variable \"_AGGREGATE_\"\n",
      "2022-01-03 11:38:06,453 INFO [report_pipelines]: Generating report \"html_report\".\n",
      "2022-01-03 11:38:06,499 INFO [histogram_section]: Generating section \"Histograms\".\n",
      "100%|███████████████████████████████████████████████████████████████| 12/12 [00:13<00:00,  1.16s/it]\n",
      "2022-01-03 11:38:20,445 INFO [traffic_light_section_generator]: Generating section \"Traffic Lights\". skip empty plots: True\n",
      "100%|██████████████████████████████████████████████████████████████| 12/12 [00:00<00:00, 195.98it/s]\n",
      "2022-01-03 11:38:20,585 INFO [alert_section_generator]: Generating section \"Alerts\". skip empty plots: True\n",
      "100%|██████████████████████████████████████████████████████████████| 13/13 [00:00<00:00, 158.83it/s]\n",
      "2022-01-03 11:38:20,916 INFO [section_generator]: Generating section \"Comparisons\". skip empty plots: True\n",
      "100%|███████████████████████████████████████████████████████████████| 12/12 [00:26<00:00,  2.24s/it]\n",
      "2022-01-03 11:38:48,248 INFO [section_generator]: Generating section \"Profiles\". skip empty plots: True\n",
      "100%|███████████████████████████████████████████████████████████████| 12/12 [00:17<00:00,  1.46s/it]\n"
     ]
    },
    {
     "name": "stdout",
     "output_type": "stream",
     "text": [
      "Dataprofiler dataloader report generated at:\n",
      "./popmon_output/popmon_data_example_with_datetime_parquet/popmon_loader_report.html\n"
     ]
    }
   ],
   "source": [
    "report_dp_loader = dp_dataframe.pm_stability_report(\n",
    "            time_axis=dp_time_index,\n",
    "            time_width=\"1w\",\n",
    "            time_offset=\"2015-07-02\",\n",
    "            extended_report=False,\n",
    "            pull_rules={\"*_pull\": [10, 7, -7, -10]},\n",
    "        )\n",
    "# Save pm reports\n",
    "report_dp_loader.to_file(os.path.join(report_output_dir, \"dataprofiler_loader_report.html\"))\n",
    "print(\"Dataprofiler dataloader report generated at:\")\n",
    "print(os.path.join(report_output_dir, \"popmon_loader_report.html\"))"
   ]
  }
 ],
 "metadata": {
  "kernelspec": {
   "display_name": "Python 3 (ipykernel)",
   "language": "python",
   "name": "python3"
  },
  "language_info": {
   "codemirror_mode": {
    "name": "ipython",
    "version": 3
   },
   "file_extension": ".py",
   "mimetype": "text/x-python",
   "name": "python",
   "nbconvert_exporter": "python",
   "pygments_lexer": "ipython3",
   "version": "3.7.6"
  }
 },
 "nbformat": 4,
 "nbformat_minor": 5
}
